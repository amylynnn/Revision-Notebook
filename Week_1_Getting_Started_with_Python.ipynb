{
  "nbformat": 4,
  "nbformat_minor": 0,
  "metadata": {
    "colab": {
      "provenance": [],
      "authorship_tag": "ABX9TyPtp0gDWDNGMgJ8Kv6Z+665",
      "include_colab_link": true
    },
    "kernelspec": {
      "name": "python3",
      "display_name": "Python 3"
    },
    "language_info": {
      "name": "python"
    }
  },
  "cells": [
    {
      "cell_type": "markdown",
      "metadata": {
        "id": "view-in-github",
        "colab_type": "text"
      },
      "source": [
        "<a href=\"https://colab.research.google.com/github/amylynnn/Revision-Notebook/blob/main/Week_1_Getting_Started_with_Python.ipynb\" target=\"_parent\"><img src=\"https://colab.research.google.com/assets/colab-badge.svg\" alt=\"Open In Colab\"/></a>"
      ]
    },
    {
      "cell_type": "code",
      "execution_count": 2,
      "metadata": {
        "colab": {
          "base_uri": "https://localhost:8080/"
        },
        "id": "Zvzd7CfVrHjk",
        "outputId": "d441f572-a96d-4c13-924e-5c9c10df2187"
      },
      "outputs": [
        {
          "output_type": "stream",
          "name": "stdout",
          "text": [
            "Welcome to CodeBuddy 3000!\n",
            "I'm your clever virtual companion, here to chat and maybe crack a joke or two!\n",
            "\n",
            "You: Hello!\n",
            "Bot: Hey there! Ready to have some fun? What can I do for you today?\n",
            "\n",
            "You: What's your name?\n",
            "Bot: I'm CodeBuddy 3000, your friendly neighbourhood chatbot with a byte of personality!\n",
            "\n",
            "You: What can you do?\n",
            "Bot: I can chat, tell silly jokes, and even pretend to know programming languages!\n",
            "\n",
            "You: What's your favourite programming language?\n",
            "Bot: I love Python because it’s like the Swiss Army knife of coding — simple, versatile, and powerful!\n",
            "\n",
            "You: Tell me a joke!\n",
            "Bot: Why do programmers prefer dark mode? Because light attracts bugs! 😂\n",
            "\n",
            "You: Bye!\n",
            "Bot: Catch you later! May your code always compile on the first try!\n",
            "\n"
          ]
        }
      ],
      "source": [
        "print(\"Welcome to CodeBuddy 3000!\")\n",
        "print(\"I'm your clever virtual companion, here to chat and maybe crack a joke or two!\\n\")\n",
        "\n",
        "print(\"You: Hello!\")\n",
        "print(\"Bot: Hey there! Ready to have some fun? What can I do for you today?\\n\")\n",
        "\n",
        "print(\"You: What's your name?\")\n",
        "print(\"Bot: I'm CodeBuddy 3000, your friendly neighbourhood chatbot with a byte of personality!\\n\")\n",
        "\n",
        "print(\"You: What can you do?\")\n",
        "print(\"Bot: I can chat, tell silly jokes, and even pretend to know programming languages!\\n\")\n",
        "\n",
        "print(\"You: What's your favourite programming language?\")\n",
        "print(\"Bot: I love Python because it’s like the Swiss Army knife of coding — simple, versatile, and powerful!\\n\")\n",
        "\n",
        "print(\"You: Tell me a joke!\")\n",
        "print(\"Bot: Why do programmers prefer dark mode? Because light attracts bugs! 😂\\n\")\n",
        "\n",
        "print(\"You: Bye!\")\n",
        "print(\"Bot: Catch you later! May your code always compile on the first try!\\n\")\n"
      ]
    }
  ]
}