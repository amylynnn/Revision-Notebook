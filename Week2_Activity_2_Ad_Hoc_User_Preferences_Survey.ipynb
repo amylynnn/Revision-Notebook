{
  "nbformat": 4,
  "nbformat_minor": 0,
  "metadata": {
    "colab": {
      "provenance": [],
      "authorship_tag": "ABX9TyO/dMmcXPYdQafkZIgcQi3M",
      "include_colab_link": true
    },
    "kernelspec": {
      "name": "python3",
      "display_name": "Python 3"
    },
    "language_info": {
      "name": "python"
    }
  },
  "cells": [
    {
      "cell_type": "markdown",
      "metadata": {
        "id": "view-in-github",
        "colab_type": "text"
      },
      "source": [
        "<a href=\"https://colab.research.google.com/github/amylynnn/Revision-Notebook/blob/main/Week2_Activity_2_Ad_Hoc_User_Preferences_Survey.ipynb\" target=\"_parent\"><img src=\"https://colab.research.google.com/assets/colab-badge.svg\" alt=\"Open In Colab\"/></a>"
      ]
    },
    {
      "cell_type": "code",
      "execution_count": 1,
      "metadata": {
        "colab": {
          "base_uri": "https://localhost:8080/"
        },
        "id": "euhOYIivtFWB",
        "outputId": "269936bf-eb89-4d18-eec7-7be41e873423"
      },
      "outputs": [
        {
          "output_type": "stream",
          "name": "stdout",
          "text": [
            "What's your name? Amy\n",
            "What's your favourite colour? Pink\n",
            "What's your favourite food? Rice\n",
            "What's your favourite movie? Bones and All\n",
            "What's your favourite hobby? Tennis\n",
            "What year were you born? 2003\n",
            "\n",
            "Here is a summary of your preferences:\n",
            "* Name: Amy\n",
            "* Favourite Colour: Pink\n",
            "* Favourite Food: Rice\n",
            "* Favourite Movie: Bones and All\n",
            "* Favourite Hobby: Tennis\n",
            "* Age: 22 years old\n",
            "\n",
            "Hello, Amy! Your favourite colour is Pink, you love Rice, your favourite movie is Bones and All, and you enjoy Tennis. This year, you are 22 years old.\n"
          ]
        }
      ],
      "source": [
        "import datetime\n",
        "\n",
        "# Step 1: Ask user for preferences\n",
        "name = input(\"What's your name? \")\n",
        "favourite_colour = input(\"What's your favourite colour? \")\n",
        "favourite_food = input(\"What's your favourite food? \")\n",
        "favourite_movie = input(\"What's your favourite movie? \")\n",
        "\n",
        "# Extension: Add another preference\n",
        "favourite_hobby = input(\"What's your favourite hobby? \")\n",
        "\n",
        "# Mini-Challenge: Calculate age\n",
        "birth_year = int(input(\"What year were you born? \"))\n",
        "current_year = datetime.datetime.now().year\n",
        "age = current_year - birth_year\n",
        "\n",
        "# Step 2: Present preferences with stars and multiline format\n",
        "print(\"\\nHere is a summary of your preferences:\")\n",
        "print(f\"* Name: {name}\")\n",
        "print(f\"* Favourite Colour: {favourite_colour}\")\n",
        "print(f\"* Favourite Food: {favourite_food}\")\n",
        "print(f\"* Favourite Movie: {favourite_movie}\")\n",
        "print(f\"* Favourite Hobby: {favourite_hobby}\")\n",
        "print(f\"* Age: {age} years old\")\n",
        "\n",
        "# Bonus: Friendly summary using f-string\n",
        "print(f\"\\nHello, {name}! Your favourite colour is {favourite_colour}, you love {favourite_food}, your favourite movie is {favourite_movie}, and you enjoy {favourite_hobby}. This year, you are {age} years old.\")\n",
        "\n"
      ]
    }
  ]
}