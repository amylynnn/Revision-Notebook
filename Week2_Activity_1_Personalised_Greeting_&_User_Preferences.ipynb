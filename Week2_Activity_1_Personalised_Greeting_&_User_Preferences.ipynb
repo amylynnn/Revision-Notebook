{
  "nbformat": 4,
  "nbformat_minor": 0,
  "metadata": {
    "colab": {
      "provenance": [],
      "authorship_tag": "ABX9TyP0rsJRkspFMOoPrlKuAwj1",
      "include_colab_link": true
    },
    "kernelspec": {
      "name": "python3",
      "display_name": "Python 3"
    },
    "language_info": {
      "name": "python"
    }
  },
  "cells": [
    {
      "cell_type": "markdown",
      "metadata": {
        "id": "view-in-github",
        "colab_type": "text"
      },
      "source": [
        "<a href=\"https://colab.research.google.com/github/amylynnn/Revision-Notebook/blob/main/Week2_Activity_1_Personalised_Greeting_%26_User_Preferences.ipynb\" target=\"_parent\"><img src=\"https://colab.research.google.com/assets/colab-badge.svg\" alt=\"Open In Colab\"/></a>"
      ]
    },
    {
      "cell_type": "code",
      "execution_count": 1,
      "metadata": {
        "colab": {
          "base_uri": "https://localhost:8080/"
        },
        "id": "EjYaHsLMsYoD",
        "outputId": "04fc48b9-2030-4f8a-a990-f0e36efde0c5"
      },
      "outputs": [
        {
          "output_type": "stream",
          "name": "stdout",
          "text": [
            "What is your name? Amy\n",
            "What is your favourite colour? Red\n",
            "What is your favourite food? Rice\n",
            "What is your favourite hobby? Tennis\n",
            "What's your spirit animal? Lion\n",
            "What year were you born? 2003\n",
            "\n",
            "Hello, Amy!\n",
            "Your favourite colour is Red, you love Rice, and your favourite hobby is Tennis.\n",
            "\n",
            "Interesting choice! I wonder why a Lion resonates with you.\n",
            "\n",
            "By the way, your name in all caps is AMY!\n",
            "\n",
            "You are 22 years old! That's awesome.\n",
            "\n",
            "Thanks for sharing! Keep enjoying your coding adventure!\n"
          ]
        }
      ],
      "source": [
        "import datetime\n",
        "\n",
        "# Step 1: Collect user inputs\n",
        "user_name = input(\"What is your name? \")\n",
        "fav_colour = input(\"What is your favourite colour? \")\n",
        "fav_food = input(\"What is your favourite food? \")\n",
        "\n",
        "# Step 3: Extend by adding favourite hobby and spirit animal\n",
        "fav_hobby = input(\"What is your favourite hobby? \")\n",
        "spirit_animal = input(\"What's your spirit animal? \")\n",
        "\n",
        "# Mini-Challenge 2: Calculate age from birth year\n",
        "birth_year = int(input(\"What year were you born? \"))\n",
        "current_year = datetime.datetime.now().year\n",
        "age = current_year - birth_year\n",
        "\n",
        "# Step 2 & Mini-Challenge 1: Output a personalized multi-line greeting\n",
        "print(\"\\nHello, \" + user_name + \"!\\n\" +\n",
        "      \"Your favourite colour is \" + fav_colour +\n",
        "      \", you love \" + fav_food + \", and your favourite hobby is \" + fav_hobby + \".\\n\")\n",
        "\n",
        "# Comment on spirit animal choice using commas for separation\n",
        "print(\"Interesting choice! I wonder why a\", spirit_animal, \"resonates with you.\\n\")\n",
        "\n",
        "# Show the user's name in uppercase letters using a string method\n",
        "print(\"By the way, your name in all caps is \" + user_name.upper() + \"!\\n\")\n",
        "\n",
        "# Output the calculated age\n",
        "print(\"You are\", age, \"years old! That's awesome.\\n\")\n",
        "\n",
        "# Friendly sign-off message\n",
        "print(\"Thanks for sharing! Keep enjoying your coding adventure!\")\n"
      ]
    }
  ]
}