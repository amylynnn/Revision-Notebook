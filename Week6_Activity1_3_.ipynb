{
  "nbformat": 4,
  "nbformat_minor": 0,
  "metadata": {
    "colab": {
      "provenance": [],
      "authorship_tag": "ABX9TyMWzBK+zlDT6WQ0ZMGQg26o",
      "include_colab_link": true
    },
    "kernelspec": {
      "name": "python3",
      "display_name": "Python 3"
    },
    "language_info": {
      "name": "python"
    }
  },
  "cells": [
    {
      "cell_type": "markdown",
      "metadata": {
        "id": "view-in-github",
        "colab_type": "text"
      },
      "source": [
        "<a href=\"https://colab.research.google.com/github/amylynnn/Revision-Notebook/blob/main/Week6_Activity1_3_.ipynb\" target=\"_parent\"><img src=\"https://colab.research.google.com/assets/colab-badge.svg\" alt=\"Open In Colab\"/></a>"
      ]
    },
    {
      "cell_type": "code",
      "execution_count": 1,
      "metadata": {
        "colab": {
          "base_uri": "https://localhost:8080/"
        },
        "id": "EZ4zpAjq0JI4",
        "outputId": "d89b0bf0-de95-4377-f8ab-903384dd7ebc"
      },
      "outputs": [
        {
          "output_type": "stream",
          "name": "stdout",
          "text": [
            "Total Revenue: $ 4837.55\n"
          ]
        }
      ],
      "source": [
        "# Ativity 1\n",
        "# Activity 1.1: Conceptual Application & Analysis\n",
        "\n",
        "sales_data = {\n",
        "    \"P001\": {\"name\": \"Widget A\", \"price\": 9.99, \"qty_sold\": 120},\n",
        "    \"P002\": {\"name\": \"Widget B\", \"price\": 14.50, \"qty_sold\": 85},\n",
        "    \"P003\": {\"name\": \"Widget C\", \"price\": 7.25, \"qty_sold\": 200},\n",
        "    \"P004\": {\"name\": \"Widget D\", \"price\": 12.75, \"qty_sold\": 75}\n",
        "}\n",
        "\n",
        "# Calculate total revenue\n",
        "total_revenue = 0\n",
        "for product in sales_data.values():\n",
        "    total_revenue += product[\"price\"] * product[\"qty_sold\"]\n",
        "\n",
        "print(\"Total Revenue: $\", round(total_revenue, 2))\n"
      ]
    },
    {
      "cell_type": "code",
      "source": [
        "best_selling = max(sales_data.items(), key=lambda x: x[1][\"qty_sold\"])\n",
        "print(\"Best Selling Product:\", best_selling[1][\"name\"], \"with\", best_selling[1][\"qty_sold\"], \"units sold\")\n"
      ],
      "metadata": {
        "colab": {
          "base_uri": "https://localhost:8080/"
        },
        "id": "zy0C6jcQ0Wy3",
        "outputId": "5929d6b5-bbe4-4f04-d279-45977cf95308"
      },
      "execution_count": 2,
      "outputs": [
        {
          "output_type": "stream",
          "name": "stdout",
          "text": [
            "Best Selling Product: Widget C with 200 units sold\n"
          ]
        }
      ]
    },
    {
      "cell_type": "code",
      "source": [
        "# Activity 1.2: Evaluation, Comparison, and Justification\n",
        "\n",
        "product_a_revenue = 19.99 * 50\n",
        "product_b_revenue = 14.75 * 80\n",
        "\n",
        "print(\"Product A Revenue: $\", product_a_revenue)\n",
        "print(\"Product B Revenue: $\", product_b_revenue)\n",
        "\n",
        "if product_a_revenue > product_b_revenue:\n",
        "    print(\"Recommend Product A\")\n",
        "else:\n",
        "    print(\"Recommend Product B\")\n"
      ],
      "metadata": {
        "colab": {
          "base_uri": "https://localhost:8080/"
        },
        "id": "zfZ-sJwY0ZwJ",
        "outputId": "6cf58ecf-b99c-4b15-ab98-10cda4aef0be"
      },
      "execution_count": 3,
      "outputs": [
        {
          "output_type": "stream",
          "name": "stdout",
          "text": [
            "Product A Revenue: $ 999.4999999999999\n",
            "Product B Revenue: $ 1180.0\n",
            "Recommend Product B\n"
          ]
        }
      ]
    },
    {
      "cell_type": "code",
      "source": [
        "# Combining Concepts (Summary Report)\n",
        "\n",
        "# Total revenue\n",
        "total_revenue = 0\n",
        "highest_revenue = 0\n",
        "highest_product = None\n",
        "total_price = 0\n",
        "\n",
        "for product in sales_data.values():\n",
        "    revenue = product[\"price\"] * product[\"qty_sold\"]\n",
        "    total_revenue += revenue\n",
        "    total_price += product[\"price\"]\n",
        "\n",
        "    if revenue > highest_revenue:\n",
        "        highest_revenue = revenue\n",
        "        highest_product = product[\"name\"]\n",
        "\n",
        "avg_price = total_price / len(sales_data)\n",
        "\n",
        "print(\"Total Revenue: $\", round(total_revenue, 2))\n",
        "print(\"Highest Revenue Product:\", highest_product, \"($\", round(highest_revenue, 2), \")\")\n",
        "print(\"Average Product Price: $\", round(avg_price, 2))\n"
      ],
      "metadata": {
        "colab": {
          "base_uri": "https://localhost:8080/"
        },
        "id": "r2zKyofc0hCD",
        "outputId": "f888e5c9-214e-4ca9-ae70-5d13a5b9fb6f"
      },
      "execution_count": 4,
      "outputs": [
        {
          "output_type": "stream",
          "name": "stdout",
          "text": [
            "Total Revenue: $ 4837.55\n",
            "Highest Revenue Product: Widget C ($ 1450.0 )\n",
            "Average Product Price: $ 11.12\n"
          ]
        }
      ]
    },
    {
      "cell_type": "code",
      "source": [
        "# Activity 3\n",
        "# Dictionary Structure\n",
        "\n",
        "inventory = {\n",
        "    \"P001\": {\"name\": \"Widget A\", \"stock\": 100, \"price\": 9.99},\n",
        "    \"P002\": {\"name\": \"Widget B\", \"stock\": 50, \"price\": 14.50},\n",
        "    \"P003\": {\"name\": \"Widget C\", \"stock\": 0, \"price\": 7.25}\n",
        "}\n"
      ],
      "metadata": {
        "id": "k8BC2OcS1nlI"
      },
      "execution_count": 6,
      "outputs": []
    },
    {
      "cell_type": "code",
      "source": [
        "inventory = {\n",
        "    \"P001\": {\n",
        "        \"name\": \"Widget A\",\n",
        "        \"stock\": 100,\n",
        "        \"price\": 9.99,\n",
        "        \"reorder_point\": 20,\n",
        "        \"lead_time\": 3,  # days\n",
        "        \"sales_history\": [5, 7, 8, 6, 10]  # last 5 days\n",
        "    }\n",
        "}\n"
      ],
      "metadata": {
        "id": "zqBwCe6i1whf"
      },
      "execution_count": 7,
      "outputs": []
    },
    {
      "cell_type": "code",
      "source": [
        "def forecast_sales(history):\n",
        "    return sum(history[-3:]) / 3\n",
        "\n",
        "def check_reorder(product):\n",
        "    forecast = forecast_sales(product[\"sales_history\"])\n",
        "    if product[\"stock\"] < product[\"reorder_point\"]:\n",
        "        return True\n",
        "    return False\n"
      ],
      "metadata": {
        "id": "bvqydzW911aR"
      },
      "execution_count": 8,
      "outputs": []
    }
  ]
}