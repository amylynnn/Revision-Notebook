{
  "nbformat": 4,
  "nbformat_minor": 0,
  "metadata": {
    "colab": {
      "provenance": [],
      "authorship_tag": "ABX9TyNc8cgnxhVox2aEilV7txTO",
      "include_colab_link": true
    },
    "kernelspec": {
      "name": "python3",
      "display_name": "Python 3"
    },
    "language_info": {
      "name": "python"
    }
  },
  "cells": [
    {
      "cell_type": "markdown",
      "metadata": {
        "id": "view-in-github",
        "colab_type": "text"
      },
      "source": [
        "<a href=\"https://colab.research.google.com/github/amylynnn/Revision-Notebook/blob/main/Week4_Project_Building_a_Simple_Weather_Calculator.ipynb\" target=\"_parent\"><img src=\"https://colab.research.google.com/assets/colab-badge.svg\" alt=\"Open In Colab\"/></a>"
      ]
    },
    {
      "cell_type": "markdown",
      "source": [
        "Pseudo-Code\n",
        "1. Display menu:\n",
        "    - Option 1: Convert Fahrenheit to Celsius\n",
        "    - Option 2: Calculate Wind Chill\n",
        "\n",
        "2. Get user input for which calculation they want to perform.\n",
        "\n",
        "3. If option is Temperature Conversion:\n",
        "    a. Ask user for temperature in Fahrenheit\n",
        "    b. Convert temperature using the formula:\n",
        "       Celsius = (Fahrenheit - 32) * 5/9\n",
        "    c. Return result\n",
        "\n",
        "4. If option is Wind Chill Calculation:\n",
        "    a. Ask user for temperature in Fahrenheit\n",
        "    b. Ask user for wind speed in mph\n",
        "    c. Use wind chill formula:\n",
        "       Wind Chill = 35.74 + 0.6215 * T - 35.75 * V^0.16 + 0.4275 * T * V^0.16\n",
        "    d. Return result\n",
        "\n",
        "5. Display the result in a formatted message.\n"
      ],
      "metadata": {
        "id": "krFbvQDowl8U"
      }
    },
    {
      "cell_type": "code",
      "source": [
        "!pip install pyinputplus"
      ],
      "metadata": {
        "colab": {
          "base_uri": "https://localhost:8080/"
        },
        "id": "We6poq2ow0Ak",
        "outputId": "b8a3b8aa-6575-4101-ae94-3f8b6a1a8bd5"
      },
      "execution_count": 2,
      "outputs": [
        {
          "output_type": "stream",
          "name": "stdout",
          "text": [
            "Collecting pyinputplus\n",
            "  Downloading PyInputPlus-0.2.12.tar.gz (20 kB)\n",
            "  Installing build dependencies ... \u001b[?25l\u001b[?25hdone\n",
            "  Getting requirements to build wheel ... \u001b[?25l\u001b[?25hdone\n",
            "  Preparing metadata (pyproject.toml) ... \u001b[?25l\u001b[?25hdone\n",
            "Collecting pysimplevalidate>=0.2.7 (from pyinputplus)\n",
            "  Downloading PySimpleValidate-0.2.12.tar.gz (22 kB)\n",
            "  Installing build dependencies ... \u001b[?25l\u001b[?25hdone\n",
            "  Getting requirements to build wheel ... \u001b[?25l\u001b[?25hdone\n",
            "  Preparing metadata (pyproject.toml) ... \u001b[?25l\u001b[?25hdone\n",
            "Collecting stdiomask>=0.0.3 (from pyinputplus)\n",
            "  Downloading stdiomask-0.0.6.tar.gz (3.6 kB)\n",
            "  Installing build dependencies ... \u001b[?25l\u001b[?25hdone\n",
            "  Getting requirements to build wheel ... \u001b[?25l\u001b[?25hdone\n",
            "  Preparing metadata (pyproject.toml) ... \u001b[?25l\u001b[?25hdone\n",
            "Building wheels for collected packages: pyinputplus, pysimplevalidate, stdiomask\n",
            "  Building wheel for pyinputplus (pyproject.toml) ... \u001b[?25l\u001b[?25hdone\n",
            "  Created wheel for pyinputplus: filename=pyinputplus-0.2.12-py3-none-any.whl size=11348 sha256=5016b3d5e979124b25985d6d9ff18c00e5cbfe93ae7468ef68b88bf6ec2b420f\n",
            "  Stored in directory: /root/.cache/pip/wheels/a3/6b/89/3bec14288af8e0729d088fb41a785e583d49e772f2529c7676\n",
            "  Building wheel for pysimplevalidate (pyproject.toml) ... \u001b[?25l\u001b[?25hdone\n",
            "  Created wheel for pysimplevalidate: filename=pysimplevalidate-0.2.12-py3-none-any.whl size=16225 sha256=2e1e44c2d76c45648f8c98ff457aefeb808c004f5e63b356e970b2069896dc1c\n",
            "  Stored in directory: /root/.cache/pip/wheels/fc/40/7a/4d3b2dc2e80b4b3bbda89eec94fcefd6c8bd1101cc7bb89554\n",
            "  Building wheel for stdiomask (pyproject.toml) ... \u001b[?25l\u001b[?25hdone\n",
            "  Created wheel for stdiomask: filename=stdiomask-0.0.6-py3-none-any.whl size=3358 sha256=09510ed57394101ab4e810a64b0b3392240eb6f18f6d9d8a4ef1b9f6251fc998\n",
            "  Stored in directory: /root/.cache/pip/wheels/19/0c/90/5ee0da7cf06ff7e233f273063797785d5eabf0ab9f04220866\n",
            "Successfully built pyinputplus pysimplevalidate stdiomask\n",
            "Installing collected packages: stdiomask, pysimplevalidate, pyinputplus\n",
            "Successfully installed pyinputplus-0.2.12 pysimplevalidate-0.2.12 stdiomask-0.0.6\n"
          ]
        }
      ]
    },
    {
      "cell_type": "code",
      "source": [
        "import pyinputplus as pyip\n",
        "\n",
        "# Function to convert Fahrenheit to Celsius\n",
        "def convert_to_celsius(fahrenheit):\n",
        "    celsius = (fahrenheit - 32) * 5 / 9\n",
        "    return round(celsius, 2)\n",
        "\n",
        "# Function to calculate wind chill\n",
        "def calculate_wind_chill(temperature_f, wind_speed_mph):\n",
        "    wind_chill = (35.74 + (0.6215 * temperature_f)\n",
        "                  - (35.75 * (wind_speed_mph ** 0.16))\n",
        "                  + (0.4275 * temperature_f * (wind_speed_mph ** 0.16)))\n",
        "    return round(wind_chill, 2)\n",
        "\n",
        "# Main function to control the flow\n",
        "def main():\n",
        "    print(\"Weather Calculator Menu\")\n",
        "    print(\"1. Temperature Conversion (F to C)\")\n",
        "    print(\"2. Wind Chill Calculation\")\n",
        "\n",
        "    choice = pyip.inputChoice(['1', '2'], prompt=\"Enter your choice (1 or 2): \")\n",
        "\n",
        "    if choice == '1':\n",
        "        temp_f = pyip.inputFloat(\"Enter temperature in Fahrenheit: \")\n",
        "        result_c = convert_to_celsius(temp_f)\n",
        "        print(f\"{temp_f}°F is equivalent to {result_c:.2f}°C.\")\n",
        "\n",
        "    elif choice == '2':\n",
        "        temp_f = pyip.inputFloat(\"Enter temperature in Fahrenheit: \")\n",
        "        wind_speed = pyip.inputFloat(\"Enter wind speed in mph: \")\n",
        "        wind_chill = calculate_wind_chill(temp_f, wind_speed)\n",
        "        print(f\"The wind chill is {wind_chill:.2f}°F.\")\n",
        "\n",
        "# Run the programme\n",
        "main()\n"
      ],
      "metadata": {
        "colab": {
          "base_uri": "https://localhost:8080/"
        },
        "id": "RtxgnuSVw-RX",
        "outputId": "bfd1bb6e-18b9-4e12-fcf9-436326b24c97"
      },
      "execution_count": 3,
      "outputs": [
        {
          "output_type": "stream",
          "name": "stdout",
          "text": [
            "Weather Calculator Menu\n",
            "1. Temperature Conversion (F to C)\n",
            "2. Wind Chill Calculation\n",
            "Enter your choice (1 or 2): 2\n",
            "Enter temperature in Fahrenheit: 3\n",
            "Enter wind speed in mph: 3\n",
            "The wind chill is -3.49°F.\n"
          ]
        }
      ]
    }
  ]
}