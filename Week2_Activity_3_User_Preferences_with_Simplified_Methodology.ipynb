{
  "nbformat": 4,
  "nbformat_minor": 0,
  "metadata": {
    "colab": {
      "provenance": [],
      "authorship_tag": "ABX9TyMem1wBjJLxVm4Axp/cgVE5",
      "include_colab_link": true
    },
    "kernelspec": {
      "name": "python3",
      "display_name": "Python 3"
    },
    "language_info": {
      "name": "python"
    }
  },
  "cells": [
    {
      "cell_type": "markdown",
      "metadata": {
        "id": "view-in-github",
        "colab_type": "text"
      },
      "source": [
        "<a href=\"https://colab.research.google.com/github/amylynnn/Revision-Notebook/blob/main/Week2_Activity_3_User_Preferences_with_Simplified_Methodology.ipynb\" target=\"_parent\"><img src=\"https://colab.research.google.com/assets/colab-badge.svg\" alt=\"Open In Colab\"/></a>"
      ]
    },
    {
      "cell_type": "code",
      "execution_count": 1,
      "metadata": {
        "colab": {
          "base_uri": "https://localhost:8080/"
        },
        "id": "-m0_dgULtwuu",
        "outputId": "2ef011b3-653b-4c67-d5d3-1949f5d4cb3d"
      },
      "outputs": [
        {
          "output_type": "stream",
          "name": "stdout",
          "text": [
            "What is your name? Amy\n",
            "What's your favourite colour? Pink\n",
            "What's your favourite food? Rice\n",
            "What's your favourite hobby? Tennis\n",
            "\n",
            "Hello, Amy!\n",
            "Your favourite colour is Pink, you love Rice, and you enjoy Tennis.\n",
            "\n",
            "Here are your preferences:\n",
            "* Name: Amy\n",
            "* Favourite Colour: Pink\n",
            "* Favourite Food: Rice\n",
            "* Favourite Hobby: Tennis\n",
            "\n",
            "What year were you born? 2003\n",
            "You are 22 years old!\n",
            "\n",
            "Hello, Amy!\n",
            "Your favourite colour is Pink, you love Rice, and you enjoy Tennis.\n"
          ]
        }
      ],
      "source": [
        "# Activity 3: User Preferences with Simplified Methodology\n",
        "\n",
        "# Step 2: Describe Input and Output\n",
        "# Inputs:\n",
        "# - Name\n",
        "# - Favourite Colour\n",
        "# - Favourite Food\n",
        "# - Favourite Hobby\n",
        "#\n",
        "# Output:\n",
        "# \"Hello, [name]!\n",
        "# Your favourite colour is [colour], you love [food], and you enjoy [hobby].\"\n",
        "\n",
        "\n",
        "# Step 4: Develop an Algorithm (Pseudocode)\n",
        "# 1. Start the program.\n",
        "# 2. Ask the user for their name and save it.\n",
        "# 3. Ask the user for their favourite colour and save it.\n",
        "# 4. Ask the user for their favourite food and save it.\n",
        "# 5. Ask the user for their favourite hobby and save it.\n",
        "# 6. Create a summary message using the collected inputs.\n",
        "# 7. Print the summary message.\n",
        "# 8. End the program.\n",
        "\n",
        "\n",
        "# Step 5: Write the Code\n",
        "\n",
        "# Collect user input for various preferences\n",
        "name = input(\"What is your name? \")\n",
        "favourite_colour = input(\"What's your favourite colour? \")\n",
        "favourite_food = input(\"What's your favourite food? \")\n",
        "favourite_hobby = input(\"What's your favourite hobby? \")\n",
        "\n",
        "# Construct and display a personalised summary message\n",
        "print(\"\\nHello, \" + name + \"!\")\n",
        "print(\"Your favourite colour is \" + favourite_colour +\n",
        "      \", you love \" + favourite_food +\n",
        "      \", and you enjoy \" + favourite_hobby + \".\")\n",
        "\n",
        "\n",
        "# Mini-Challenge 1: Starred Preferences\n",
        "print(\"\\nHere are your preferences:\")\n",
        "print(\"* Name:\", name)\n",
        "print(\"* Favourite Colour:\", favourite_colour)\n",
        "print(\"* Favourite Food:\", favourite_food)\n",
        "print(\"* Favourite Hobby:\", favourite_hobby)\n",
        "\n",
        "\n",
        "# Mini-Challenge 2: Age Calculator\n",
        "import datetime\n",
        "\n",
        "birth_year = int(input(\"\\nWhat year were you born? \"))\n",
        "current_year = datetime.datetime.now().year\n",
        "age = current_year - birth_year\n",
        "print(\"You are\", age, \"years old!\")\n",
        "\n",
        "\n",
        "# Mini-Challenge 3: Optional - F-string formatting for cleaner output\n",
        "print(f\"\\nHello, {name}!\")\n",
        "print(f\"Your favourite colour is {favourite_colour}, you love {favourite_food}, and you enjoy {favourite_hobby}.\")\n"
      ]
    }
  ]
}