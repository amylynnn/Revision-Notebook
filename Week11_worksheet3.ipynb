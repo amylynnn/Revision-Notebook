{
  "nbformat": 4,
  "nbformat_minor": 0,
  "metadata": {
    "colab": {
      "provenance": [],
      "authorship_tag": "ABX9TyP/l/I8dEtixRtF1vP0YV0U",
      "include_colab_link": true
    },
    "kernelspec": {
      "name": "python3",
      "display_name": "Python 3"
    },
    "language_info": {
      "name": "python"
    }
  },
  "cells": [
    {
      "cell_type": "markdown",
      "metadata": {
        "id": "view-in-github",
        "colab_type": "text"
      },
      "source": [
        "<a href=\"https://colab.research.google.com/github/amylynnn/Revision-Notebook/blob/main/Week11_worksheet3.ipynb\" target=\"_parent\"><img src=\"https://colab.research.google.com/assets/colab-badge.svg\" alt=\"Open In Colab\"/></a>"
      ]
    },
    {
      "cell_type": "code",
      "execution_count": 1,
      "metadata": {
        "colab": {
          "base_uri": "https://localhost:8080/"
        },
        "id": "nNru9lu6_PMI",
        "outputId": "c1eceea6-5c09-4835-f648-8cb8317bdfaa"
      },
      "outputs": [
        {
          "output_type": "stream",
          "name": "stdout",
          "text": [
            "123\n",
            "0\n",
            "-1\n",
            "0\n"
          ]
        }
      ],
      "source": [
        "# Task: Create a Safe Integer Conversion Function\n",
        "\n",
        "def safe_int(text, default=0):\n",
        "    \"\"\"\n",
        "    Safely convert text to an integer.\n",
        "\n",
        "    Args:\n",
        "        text (str): The text to convert\n",
        "        default (int): Value to return if conversion fails\n",
        "\n",
        "    Returns:\n",
        "        int: The converted integer or the default value\n",
        "    \"\"\"\n",
        "    try:\n",
        "        return int(text)\n",
        "    except (ValueError, TypeError):\n",
        "        return default\n",
        "\n",
        "# Test your function\n",
        "print(safe_int(\"123\"))      # Should return: 123\n",
        "print(safe_int(\"abc\"))      # Should return: 0\n",
        "print(safe_int(\"abc\", -1))  # Should return: -1\n",
        "print(safe_int(None))       # Should return: 0 (handles TypeError)\n"
      ]
    },
    {
      "cell_type": "code",
      "source": [
        "# Extension: Implementing safe_divide()\n",
        "\n",
        "def safe_divide(numerator, denominator, default=None):\n",
        "    \"\"\"\n",
        "    Safely divides two numbers, handling division by zero.\n",
        "\n",
        "    Args:\n",
        "        numerator (float or int): The numerator\n",
        "        denominator (float or int): The denominator\n",
        "        default (any): Value to return if division fails\n",
        "\n",
        "    Returns:\n",
        "        float or default: Result of division or default value\n",
        "    \"\"\"\n",
        "    try:\n",
        "        return numerator / denominator\n",
        "    except ZeroDivisionError:\n",
        "        return default\n",
        "\n",
        "# Tests\n",
        "print(safe_divide(10, 2))       # Should return: 5.0\n",
        "print(safe_divide(10, 0))       # Should return: None\n",
        "print(safe_divide(10, 0, -1))   # Should return: -1\n"
      ],
      "metadata": {
        "colab": {
          "base_uri": "https://localhost:8080/"
        },
        "id": "vdaWyriF_Vjs",
        "outputId": "61bc0496-9afa-44c2-9f22-8f42d8ee432d"
      },
      "execution_count": 2,
      "outputs": [
        {
          "output_type": "stream",
          "name": "stdout",
          "text": [
            "5.0\n",
            "None\n",
            "-1\n"
          ]
        }
      ]
    }
  ]
}