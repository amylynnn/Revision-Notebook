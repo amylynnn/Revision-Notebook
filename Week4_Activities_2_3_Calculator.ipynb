{
  "nbformat": 4,
  "nbformat_minor": 0,
  "metadata": {
    "colab": {
      "provenance": [],
      "authorship_tag": "ABX9TyPutwZIlUA2g6oDd7tVAuPk",
      "include_colab_link": true
    },
    "kernelspec": {
      "name": "python3",
      "display_name": "Python 3"
    },
    "language_info": {
      "name": "python"
    }
  },
  "cells": [
    {
      "cell_type": "markdown",
      "metadata": {
        "id": "view-in-github",
        "colab_type": "text"
      },
      "source": [
        "<a href=\"https://colab.research.google.com/github/amylynnn/Revision-Notebook/blob/main/Week4_Activities_2_3_Calculator.ipynb\" target=\"_parent\"><img src=\"https://colab.research.google.com/assets/colab-badge.svg\" alt=\"Open In Colab\"/></a>"
      ]
    },
    {
      "cell_type": "code",
      "execution_count": 1,
      "metadata": {
        "colab": {
          "base_uri": "https://localhost:8080/"
        },
        "id": "o8q-oup4vRSK",
        "outputId": "814eada6-0189-45ad-eb55-adf96163dd00"
      },
      "outputs": [
        {
          "output_type": "stream",
          "name": "stdout",
          "text": [
            "Simple Calculator Menu\n",
            "1. Add\n",
            "2. Subtract\n",
            "3. Multiply\n",
            "4. Divide\n",
            "5. Modulus\n",
            "Enter your choice (1-5): 1\n",
            "Enter the first number: 1\n",
            "Enter the second number: 2\n",
            "Result: 3.0\n"
          ]
        }
      ],
      "source": [
        "#Activity 1\n",
        "# Calculator operations\n",
        "\n",
        "def add(a, b):\n",
        "    return a + b\n",
        "\n",
        "def subtract(a, b):\n",
        "    return a - b\n",
        "\n",
        "def multiply(a, b):\n",
        "    return a * b\n",
        "\n",
        "def divide(a, b):\n",
        "    if b == 0:\n",
        "        return \"Error: Cannot divide by zero.\"\n",
        "    else:\n",
        "        return a / b\n",
        "\n",
        "def modulus(a, b):\n",
        "    if b == 0:\n",
        "        return \"Error: Cannot find modulus by zero.\"\n",
        "    else:\n",
        "        return a % b\n",
        "\n",
        "# Function to display the menu and get the user's choice\n",
        "def get_operation():\n",
        "    print(\"Simple Calculator Menu\")\n",
        "    print(\"1. Add\")\n",
        "    print(\"2. Subtract\")\n",
        "    print(\"3. Multiply\")\n",
        "    print(\"4. Divide\")\n",
        "    print(\"5. Modulus\")\n",
        "    choice = input(\"Enter your choice (1-5): \")\n",
        "    return choice\n",
        "\n",
        "# Function to get a floating-point number from the user with error checking\n",
        "def get_number(prompt):\n",
        "    while True:\n",
        "        user_input = input(prompt)\n",
        "        try:\n",
        "            number = float(user_input)\n",
        "            return number\n",
        "        except ValueError:\n",
        "            print(\"Invalid input. Please enter a numeric value.\")\n",
        "\n",
        "# Function to perform the calculation based on the operation\n",
        "def perform_calculation(operation, num1, num2):\n",
        "    if operation == \"1\":\n",
        "        return add(num1, num2)\n",
        "    elif operation == \"2\":\n",
        "        return subtract(num1, num2)\n",
        "    elif operation == \"3\":\n",
        "        return multiply(num1, num2)\n",
        "    elif operation == \"4\":\n",
        "        return divide(num1, num2)\n",
        "    elif operation == \"5\":\n",
        "        return modulus(num1, num2)\n",
        "    else:\n",
        "        return \"Invalid choice.\"\n",
        "\n",
        "# Main script\n",
        "operation = get_operation()\n",
        "num1 = get_number(\"Enter the first number: \")\n",
        "num2 = get_number(\"Enter the second number: \")\n",
        "result = perform_calculation(operation, num1, num2)\n",
        "print(\"Result:\", result)\n"
      ]
    },
    {
      "cell_type": "code",
      "source": [
        "!pip install pyinputplus"
      ],
      "metadata": {
        "colab": {
          "base_uri": "https://localhost:8080/"
        },
        "id": "BNHOcTW2vpTq",
        "outputId": "7630f115-f5dc-48cf-95a2-9c3baa2c4851"
      },
      "execution_count": 3,
      "outputs": [
        {
          "output_type": "stream",
          "name": "stdout",
          "text": [
            "Collecting pyinputplus\n",
            "  Downloading PyInputPlus-0.2.12.tar.gz (20 kB)\n",
            "  Installing build dependencies ... \u001b[?25l\u001b[?25hdone\n",
            "  Getting requirements to build wheel ... \u001b[?25l\u001b[?25hdone\n",
            "  Preparing metadata (pyproject.toml) ... \u001b[?25l\u001b[?25hdone\n",
            "Collecting pysimplevalidate>=0.2.7 (from pyinputplus)\n",
            "  Downloading PySimpleValidate-0.2.12.tar.gz (22 kB)\n",
            "  Installing build dependencies ... \u001b[?25l\u001b[?25hdone\n",
            "  Getting requirements to build wheel ... \u001b[?25l\u001b[?25hdone\n",
            "  Preparing metadata (pyproject.toml) ... \u001b[?25l\u001b[?25hdone\n",
            "Collecting stdiomask>=0.0.3 (from pyinputplus)\n",
            "  Downloading stdiomask-0.0.6.tar.gz (3.6 kB)\n",
            "  Installing build dependencies ... \u001b[?25l\u001b[?25hdone\n",
            "  Getting requirements to build wheel ... \u001b[?25l\u001b[?25hdone\n",
            "  Preparing metadata (pyproject.toml) ... \u001b[?25l\u001b[?25hdone\n",
            "Building wheels for collected packages: pyinputplus, pysimplevalidate, stdiomask\n",
            "  Building wheel for pyinputplus (pyproject.toml) ... \u001b[?25l\u001b[?25hdone\n",
            "  Created wheel for pyinputplus: filename=pyinputplus-0.2.12-py3-none-any.whl size=11348 sha256=6fc2fdaf94c9a26299469a846a27886ded562931bc7ec57be1538a563abf4ea8\n",
            "  Stored in directory: /root/.cache/pip/wheels/a3/6b/89/3bec14288af8e0729d088fb41a785e583d49e772f2529c7676\n",
            "  Building wheel for pysimplevalidate (pyproject.toml) ... \u001b[?25l\u001b[?25hdone\n",
            "  Created wheel for pysimplevalidate: filename=pysimplevalidate-0.2.12-py3-none-any.whl size=16225 sha256=4a7629d91b3c93641ff5f979f93c38c5052d087fc510f4b6dae10f6c575be5c8\n",
            "  Stored in directory: /root/.cache/pip/wheels/fc/40/7a/4d3b2dc2e80b4b3bbda89eec94fcefd6c8bd1101cc7bb89554\n",
            "  Building wheel for stdiomask (pyproject.toml) ... \u001b[?25l\u001b[?25hdone\n",
            "  Created wheel for stdiomask: filename=stdiomask-0.0.6-py3-none-any.whl size=3358 sha256=cabbe84cdbc7ef7502e4f8b2f26ca34bad0787f0607981b7f0f4d16dc9590d3a\n",
            "  Stored in directory: /root/.cache/pip/wheels/19/0c/90/5ee0da7cf06ff7e233f273063797785d5eabf0ab9f04220866\n",
            "Successfully built pyinputplus pysimplevalidate stdiomask\n",
            "Installing collected packages: stdiomask, pysimplevalidate, pyinputplus\n",
            "Successfully installed pyinputplus-0.2.12 pysimplevalidate-0.2.12 stdiomask-0.0.6\n"
          ]
        }
      ]
    },
    {
      "cell_type": "code",
      "source": [
        "import pyinputplus as pyip\n",
        "\n",
        "# Calculator operations\n",
        "def add(a, b):\n",
        "    return a + b\n",
        "\n",
        "def subtract(a, b):\n",
        "    return a - b\n",
        "\n",
        "def multiply(a, b):\n",
        "    return a * b\n",
        "\n",
        "def divide(a, b):\n",
        "    if b == 0:\n",
        "        return \"Error: Cannot divide by zero.\"\n",
        "    else:\n",
        "        return a / b\n",
        "\n",
        "def modulus(a, b):\n",
        "    if b == 0:\n",
        "        return \"Error: Cannot find modulus by zero.\"\n",
        "    else:\n",
        "        return a % b\n",
        "\n",
        "# Function to get operation choice using pyinputplus\n",
        "def get_operation():\n",
        "    print(\"Simple Calculator Menu\")\n",
        "    print(\"1. Add\")\n",
        "    print(\"2. Subtract\")\n",
        "    print(\"3. Multiply\")\n",
        "    print(\"4. Divide\")\n",
        "    print(\"5. Modulus\")\n",
        "    # Use inputChoice to ensure valid menu choice\n",
        "    choice = pyip.inputChoice(['1', '2', '3', '4', '5'], prompt=\"Enter your choice (1-5): \")\n",
        "    return choice\n",
        "\n",
        "# Function to get a number (int or float) using pyinputplus\n",
        "def get_number(prompt):\n",
        "    return pyip.inputNum(prompt)\n",
        "\n",
        "# Function to perform calculation\n",
        "def perform_calculation(operation, num1, num2):\n",
        "    if operation == \"1\":\n",
        "        return add(num1, num2)\n",
        "    elif operation == \"2\":\n",
        "        return subtract(num1, num2)\n",
        "    elif operation == \"3\":\n",
        "        return multiply(num1, num2)\n",
        "    elif operation == \"4\":\n",
        "        return divide(num1, num2)\n",
        "    elif operation == \"5\":\n",
        "        return modulus(num1, num2)\n",
        "    else:\n",
        "        return \"Invalid choice.\"\n",
        "\n",
        "# Main script\n",
        "operation = get_operation()\n",
        "num1 = get_number(\"Enter the first number: \")\n",
        "num2 = get_number(\"Enter the second number: \")\n",
        "result = perform_calculation(operation, num1, num2)\n",
        "print(\"Result:\", result)\n"
      ],
      "metadata": {
        "colab": {
          "base_uri": "https://localhost:8080/"
        },
        "id": "cSFFSGEhvzer",
        "outputId": "4c8fabe4-a332-4049-dbb3-e45eb9abad07"
      },
      "execution_count": 4,
      "outputs": [
        {
          "output_type": "stream",
          "name": "stdout",
          "text": [
            "Simple Calculator Menu\n",
            "1. Add\n",
            "2. Subtract\n",
            "3. Multiply\n",
            "4. Divide\n",
            "5. Modulus\n",
            "Enter your choice (1-5): 4\n",
            "Enter the first number: 2\n",
            "Enter the second number: 4\n",
            "Result: 0.5\n"
          ]
        }
      ]
    }
  ]
}