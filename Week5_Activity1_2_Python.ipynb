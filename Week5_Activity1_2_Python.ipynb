{
  "nbformat": 4,
  "nbformat_minor": 0,
  "metadata": {
    "colab": {
      "provenance": [],
      "authorship_tag": "ABX9TyODGhiDthgHlh1n7PA4M+vY",
      "include_colab_link": true
    },
    "kernelspec": {
      "name": "python3",
      "display_name": "Python 3"
    },
    "language_info": {
      "name": "python"
    }
  },
  "cells": [
    {
      "cell_type": "markdown",
      "metadata": {
        "id": "view-in-github",
        "colab_type": "text"
      },
      "source": [
        "<a href=\"https://colab.research.google.com/github/amylynnn/Revision-Notebook/blob/main/Week5_Activity1_2_Python.ipynb\" target=\"_parent\"><img src=\"https://colab.research.google.com/assets/colab-badge.svg\" alt=\"Open In Colab\"/></a>"
      ]
    },
    {
      "cell_type": "code",
      "source": [
        "!pip install ColabTurtlePlus"
      ],
      "metadata": {
        "colab": {
          "base_uri": "https://localhost:8080/"
        },
        "id": "k-5OwE09y6z7",
        "outputId": "4cc7858c-dbb5-402e-84e8-0ad5b5ae3145"
      },
      "execution_count": 2,
      "outputs": [
        {
          "output_type": "stream",
          "name": "stdout",
          "text": [
            "Collecting ColabTurtlePlus\n",
            "  Downloading ColabTurtlePlus-2.0.1-py3-none-any.whl.metadata (10 kB)\n",
            "Downloading ColabTurtlePlus-2.0.1-py3-none-any.whl (31 kB)\n",
            "Installing collected packages: ColabTurtlePlus\n",
            "Successfully installed ColabTurtlePlus-2.0.1\n"
          ]
        }
      ]
    },
    {
      "cell_type": "code",
      "source": [
        "# Activity 1\n",
        "# Setup the environment\n",
        "from ColabTurtlePlus.Turtle import *\n",
        "\n",
        "clearscreen()\n",
        "setup(400, 400)\n",
        "showborder()\n",
        "\n",
        "# Create the turtle\n",
        "t = Turtle()\n",
        "t.shape(\"turtle\")\n",
        "t.speed(10)\n",
        "\n",
        "# Define a list of colors to cycle through\n",
        "colors = [\"red\", \"orange\", \"yellow\", \"green\", \"blue\", \"purple\"]\n",
        "\n",
        "# Draw starburst triangles\n",
        "for i in range(36):  # 360 degrees / 10 = 36 triangles\n",
        "    t.color(colors[i % len(colors)])  # Cycle through colors\n",
        "    t.begin_fill()\n",
        "\n",
        "    # Triangle shape pointing outwards\n",
        "    t.forward(100)\n",
        "    t.left(120)\n",
        "    t.forward(100)\n",
        "    t.left(120)\n",
        "    t.forward(100)\n",
        "    t.left(120)\n",
        "\n",
        "    t.end_fill()\n",
        "\n",
        "    # Rotate for the next triangle\n",
        "    t.right(10)\n",
        "\n",
        "done()\n"
      ],
      "metadata": {
        "colab": {
          "base_uri": "https://localhost:8080/",
          "height": 439
        },
        "id": "maXKNhLRy_s3",
        "outputId": "ddf5e060-ca72-4f4a-ff81-78fa0393c7a0"
      },
      "execution_count": 3,
      "outputs": [
        {
          "output_type": "stream",
          "name": "stdout",
          "text": [
            "Put clearscreen() as the first line in a cell (after the import command) to re-run turtle commands in the cell\n"
          ]
        },
        {
          "output_type": "display_data",
          "data": {
            "text/plain": [
              "<IPython.core.display.HTML object>"
            ],
            "text/html": [
              "\n",
              "      <svg width=\"400\" height=\"400\">  \n",
              "        <rect width=\"100%\" height=\"100%\" style=\"fill:white;stroke:gray;stroke-width:1\"/>\n",
              "        \n",
              "        \n",
              "        <path fill-rule=\"evenodd\" fill-opacity=\"1\" d=\"M 200.0 200.0  L 300.0 200.0  L 250.0 113.397  L 200.0 200.0 \" stroke-linecap=\"round\" style=\"stroke:red;stroke-width:1\" fill=\"red\" /><path fill-rule=\"evenodd\" fill-opacity=\"1\" d=\"M 200.0 200.0  L 298.481 217.365  L 264.279 123.396  L 200.0 200.0 \" stroke-linecap=\"round\" style=\"stroke:orange;stroke-width:1\" fill=\"orange\" /><path fill-rule=\"evenodd\" fill-opacity=\"1\" d=\"M 200.0 200.0  L 293.969 234.202  L 276.604 135.721  L 200.0 200.0 \" stroke-linecap=\"round\" style=\"stroke:yellow;stroke-width:1\" fill=\"yellow\" /><path fill-rule=\"evenodd\" fill-opacity=\"1\" d=\"M 200.0 200.0  L 286.603 250.0  L 286.603 150.0  L 200.0 200.0 \" stroke-linecap=\"round\" style=\"stroke:green;stroke-width:1\" fill=\"green\" /><path fill-rule=\"evenodd\" fill-opacity=\"1\" d=\"M 200.0 200.0  L 276.604 264.279  L 293.969 165.798  L 200.0 200.0 \" stroke-linecap=\"round\" style=\"stroke:blue;stroke-width:1\" fill=\"blue\" /><path fill-rule=\"evenodd\" fill-opacity=\"1\" d=\"M 200.0 200.0  L 264.279 276.604  L 298.481 182.635  L 200.0 200.0 \" stroke-linecap=\"round\" style=\"stroke:purple;stroke-width:1\" fill=\"purple\" /><path fill-rule=\"evenodd\" fill-opacity=\"1\" d=\"M 200.0 200.0  L 250.0 286.603  L 300.0 200.0  L 200.0 200.0 \" stroke-linecap=\"round\" style=\"stroke:red;stroke-width:1\" fill=\"red\" /><path fill-rule=\"evenodd\" fill-opacity=\"1\" d=\"M 200.0 200.0  L 234.202 293.969  L 298.481 217.365  L 200.0 200.0 \" stroke-linecap=\"round\" style=\"stroke:orange;stroke-width:1\" fill=\"orange\" /><path fill-rule=\"evenodd\" fill-opacity=\"1\" d=\"M 200.0 200.0  L 217.365 298.481  L 293.969 234.202  L 200.0 200.0 \" stroke-linecap=\"round\" style=\"stroke:yellow;stroke-width:1\" fill=\"yellow\" /><path fill-rule=\"evenodd\" fill-opacity=\"1\" d=\"M 200.0 200.0  L 200.0 300.0  L 286.603 250.0  L 200.0 200.0 \" stroke-linecap=\"round\" style=\"stroke:green;stroke-width:1\" fill=\"green\" /><path fill-rule=\"evenodd\" fill-opacity=\"1\" d=\"M 200.0 200.0  L 182.635 298.481  L 276.604 264.279  L 200.0 200.0 \" stroke-linecap=\"round\" style=\"stroke:blue;stroke-width:1\" fill=\"blue\" /><path fill-rule=\"evenodd\" fill-opacity=\"1\" d=\"M 200.0 200.0  L 165.798 293.969  L 264.279 276.604  L 200.0 200.0 \" stroke-linecap=\"round\" style=\"stroke:purple;stroke-width:1\" fill=\"purple\" /><path fill-rule=\"evenodd\" fill-opacity=\"1\" d=\"M 200.0 200.0  L 150.0 286.603  L 250.0 286.603  L 200.0 200.0 \" stroke-linecap=\"round\" style=\"stroke:red;stroke-width:1\" fill=\"red\" /><path fill-rule=\"evenodd\" fill-opacity=\"1\" d=\"M 200.0 200.0  L 135.721 276.604  L 234.202 293.969  L 200.0 200.0 \" stroke-linecap=\"round\" style=\"stroke:orange;stroke-width:1\" fill=\"orange\" /><path fill-rule=\"evenodd\" fill-opacity=\"1\" d=\"M 200.0 200.0  L 123.396 264.279  L 217.365 298.481  L 200.0 200.0 \" stroke-linecap=\"round\" style=\"stroke:yellow;stroke-width:1\" fill=\"yellow\" /><path fill-rule=\"evenodd\" fill-opacity=\"1\" d=\"M 200.0 200.0  L 113.397 250.0  L 200.0 300.0  L 200.0 200.0 \" stroke-linecap=\"round\" style=\"stroke:green;stroke-width:1\" fill=\"green\" /><path fill-rule=\"evenodd\" fill-opacity=\"1\" d=\"M 200.0 200.0  L 106.031 234.202  L 182.635 298.481  L 200.0 200.0 \" stroke-linecap=\"round\" style=\"stroke:blue;stroke-width:1\" fill=\"blue\" /><path fill-rule=\"evenodd\" fill-opacity=\"1\" d=\"M 200.0 200.0  L 101.519 217.365  L 165.798 293.969  L 200.0 200.0 \" stroke-linecap=\"round\" style=\"stroke:purple;stroke-width:1\" fill=\"purple\" /><path fill-rule=\"evenodd\" fill-opacity=\"1\" d=\"M 200.0 200.0  L 100.0 200.0  L 150.0 286.603  L 200.0 200.0 \" stroke-linecap=\"round\" style=\"stroke:red;stroke-width:1\" fill=\"red\" /><path fill-rule=\"evenodd\" fill-opacity=\"1\" d=\"M 200.0 200.0  L 101.519 182.635  L 135.721 276.604  L 200.0 200.0 \" stroke-linecap=\"round\" style=\"stroke:orange;stroke-width:1\" fill=\"orange\" /><path fill-rule=\"evenodd\" fill-opacity=\"1\" d=\"M 200.0 200.0  L 106.031 165.798  L 123.396 264.279  L 200.0 200.0 \" stroke-linecap=\"round\" style=\"stroke:yellow;stroke-width:1\" fill=\"yellow\" /><path fill-rule=\"evenodd\" fill-opacity=\"1\" d=\"M 200.0 200.0  L 113.397 150.0  L 113.397 250.0  L 200.0 200.0 \" stroke-linecap=\"round\" style=\"stroke:green;stroke-width:1\" fill=\"green\" /><path fill-rule=\"evenodd\" fill-opacity=\"1\" d=\"M 200.0 200.0  L 123.396 135.721  L 106.031 234.202  L 200.0 200.0 \" stroke-linecap=\"round\" style=\"stroke:blue;stroke-width:1\" fill=\"blue\" /><path fill-rule=\"evenodd\" fill-opacity=\"1\" d=\"M 200.0 200.0  L 135.721 123.396  L 101.519 217.365  L 200.0 200.0 \" stroke-linecap=\"round\" style=\"stroke:purple;stroke-width:1\" fill=\"purple\" /><path fill-rule=\"evenodd\" fill-opacity=\"1\" d=\"M 200.0 200.0  L 150.0 113.397  L 100.0 200.0  L 200.0 200.0 \" stroke-linecap=\"round\" style=\"stroke:red;stroke-width:1\" fill=\"red\" /><path fill-rule=\"evenodd\" fill-opacity=\"1\" d=\"M 200.0 200.0  L 165.798 106.031  L 101.519 182.635  L 200.0 200.0 \" stroke-linecap=\"round\" style=\"stroke:orange;stroke-width:1\" fill=\"orange\" /><path fill-rule=\"evenodd\" fill-opacity=\"1\" d=\"M 200.0 200.0  L 182.635 101.519  L 106.031 165.798  L 200.0 200.0 \" stroke-linecap=\"round\" style=\"stroke:yellow;stroke-width:1\" fill=\"yellow\" /><path fill-rule=\"evenodd\" fill-opacity=\"1\" d=\"M 200.0 200.0  L 200.0 100.0  L 113.397 150.0  L 200.0 200.0 \" stroke-linecap=\"round\" style=\"stroke:green;stroke-width:1\" fill=\"green\" /><path fill-rule=\"evenodd\" fill-opacity=\"1\" d=\"M 200.0 200.0  L 217.365 101.519  L 123.396 135.721  L 200.0 200.0 \" stroke-linecap=\"round\" style=\"stroke:blue;stroke-width:1\" fill=\"blue\" /><path fill-rule=\"evenodd\" fill-opacity=\"1\" d=\"M 200.0 200.0  L 234.202 106.031  L 135.721 123.396  L 200.0 200.0 \" stroke-linecap=\"round\" style=\"stroke:purple;stroke-width:1\" fill=\"purple\" /><path fill-rule=\"evenodd\" fill-opacity=\"1\" d=\"M 200.0 200.0  L 250.0 113.397  L 150.0 113.397  L 200.0 200.0 \" stroke-linecap=\"round\" style=\"stroke:red;stroke-width:1\" fill=\"red\" /><path fill-rule=\"evenodd\" fill-opacity=\"1\" d=\"M 200.0 200.0  L 264.279 123.396  L 165.798 106.031  L 200.0 200.0 \" stroke-linecap=\"round\" style=\"stroke:orange;stroke-width:1\" fill=\"orange\" /><path fill-rule=\"evenodd\" fill-opacity=\"1\" d=\"M 200.0 200.0  L 276.604 135.721  L 182.635 101.519  L 200.0 200.0 \" stroke-linecap=\"round\" style=\"stroke:yellow;stroke-width:1\" fill=\"yellow\" /><path fill-rule=\"evenodd\" fill-opacity=\"1\" d=\"M 200.0 200.0  L 286.603 150.0  L 200.0 100.0  L 200.0 200.0 \" stroke-linecap=\"round\" style=\"stroke:green;stroke-width:1\" fill=\"green\" /><path fill-rule=\"evenodd\" fill-opacity=\"1\" d=\"M 200.0 200.0  L 293.969 165.798  L 217.365 101.519  L 200.0 200.0 \" stroke-linecap=\"round\" style=\"stroke:blue;stroke-width:1\" fill=\"blue\" /><path fill-rule=\"evenodd\" fill-opacity=\"1\" d=\"M 200.0 200.0  L 298.481 182.635  L 234.202 106.031  L 200.0 200.0 \" stroke-linecap=\"round\" style=\"stroke:purple;stroke-width:1\" fill=\"purple\" />\n",
              "        \n",
              "        \n",
              "        <g id=\"turtle\" visibility=\"visible\" transform=\"rotate(90,200.0,200.0) translate(200.0, 200.0)\">\n",
              "<path style=\"stroke:purple;fill-rule:evenodd;fill:purple;fill-opacity:1;\" transform=\"skewX(0) scale(1,1)\" d=\"m 1.1536693,-18.56101 c -2.105469,1.167969 -3.203125,3.441407 -3.140625,6.5 l 0.011719,0.519532 -0.300782,-0.15625 c -1.308594,-0.671875 -2.828125,-0.824219 -4.378906,-0.429688 -1.9375,0.484375 -3.8906253,2.089844 -6.0117193,4.9257825 -1.332031,1.785156 -1.714843,2.644531 -1.351562,3.035156 l 0.113281,0.125 h 0.363281 c 0.71875,0 1.308594,-0.265625 4.6679693,-2.113282 1.199219,-0.660156 2.183594,-1.199218 2.191406,-1.199218 0.00781,0 -0.023437,0.089844 -0.074218,0.195312 -0.472657,1.058594 -1.046876,2.785156 -1.335938,4.042969 -1.054688,4.574219 -0.351562,8.453125 2.101562,11.582031 0.28125,0.355469 0.292969,0.253906 -0.097656,0.722656 -2.046875,2.4609375 -3.027344,4.8984375 -2.734375,6.8046875 0.050781,0.339844 0.042969,0.335938 0.679688,0.335938 2.023437,0 4.15625,-1.316407 6.21875,-3.835938 0.222656,-0.269531 0.191406,-0.261719 0.425781,-0.113281 0.730469,0.46875 2.460938,1.390625 2.613281,1.390625 0.160157,0 1.765625,-0.753906 2.652344,-1.246094 0.167969,-0.09375 0.308594,-0.164062 0.308594,-0.160156 0.066406,0.105468 0.761719,0.855468 1.085937,1.171875 1.613282,1.570312 3.339844,2.402343 5.3593747,2.570312 0.324219,0.02734 0.355469,0.0078 0.425781,-0.316406 0.375,-1.742187 -0.382812,-4.058594 -2.1445307,-6.5585935 l -0.320312,-0.457031 0.15625,-0.183594 c 3.2460927,-3.824218 3.4335927,-9.08593704 0.558593,-15.816406 l -0.050781,-0.125 1.7382807,0.859375 c 3.585938,1.773437 4.371094,2.097656 5.085938,2.097656 0.945312,0 0.75,-0.863281 -0.558594,-2.507812 C 11.458356,-11.838353 8.3333563,-13.268041 4.8607003,-11.721166 l -0.363281,0.164063 0.019531,-0.09375 c 0.121094,-0.550781 0.183594,-1.800781 0.121094,-2.378907 -0.203125,-1.867187 -1.035157,-3.199218 -2.695313,-4.308593 -0.523437,-0.351563 -0.546875,-0.355469 -0.789062,-0.222657\" />\n",
              "</g><g id=\"classic\" visibility=\"visible\" transform=\"rotate(-90,200.0,200.0) translate(200.0, 200.0)\">\n",
              "<polygon points=\"-5,-4.5 0,-2.5 5,-4.5 0,4.5\" transform=\"skewX(0) scale(1,1)\" style=\"stroke:black;fill:black;stroke-width:1\" />\n",
              "</g>\n",
              "      </svg>\n",
              "    "
            ]
          },
          "metadata": {}
        }
      ]
    },
    {
      "cell_type": "code",
      "source": [
        "# Step 1: Download the wheel file\n",
        "!wget https://github.com/teaching-repositories/ISYS2001-ISYS5002/raw/refs/heads/main/libs/simple_bot-0.1-cp311-cp311-linux_x86_64.whl\n",
        "\n",
        "# Step 2: Install the downloaded wheel file\n",
        "!pip install simple_bot-0.1-cp311-cp311-linux_x86_64.whl\n"
      ],
      "metadata": {
        "colab": {
          "base_uri": "https://localhost:8080/"
        },
        "id": "x6VUVxwpzhRC",
        "outputId": "befdede0-80db-4bab-fbcb-af6054092f2b"
      },
      "execution_count": 6,
      "outputs": [
        {
          "output_type": "stream",
          "name": "stdout",
          "text": [
            "--2025-06-03 17:19:27--  https://github.com/teaching-repositories/ISYS2001-ISYS5002/raw/refs/heads/main/libs/simple_bot-0.1-cp311-cp311-linux_x86_64.whl\n",
            "Resolving github.com (github.com)... 140.82.113.4\n",
            "Connecting to github.com (github.com)|140.82.113.4|:443... connected.\n",
            "HTTP request sent, awaiting response... 301 Moved Permanently\n",
            "Location: https://github.com/michael-borck/ISYS2001-ISYS5002/raw/refs/heads/main/libs/simple_bot-0.1-cp311-cp311-linux_x86_64.whl [following]\n",
            "--2025-06-03 17:19:27--  https://github.com/michael-borck/ISYS2001-ISYS5002/raw/refs/heads/main/libs/simple_bot-0.1-cp311-cp311-linux_x86_64.whl\n",
            "Reusing existing connection to github.com:443.\n",
            "HTTP request sent, awaiting response... 302 Found\n",
            "Location: https://raw.githubusercontent.com/michael-borck/ISYS2001-ISYS5002/refs/heads/main/libs/simple_bot-0.1-cp311-cp311-linux_x86_64.whl [following]\n",
            "--2025-06-03 17:19:27--  https://raw.githubusercontent.com/michael-borck/ISYS2001-ISYS5002/refs/heads/main/libs/simple_bot-0.1-cp311-cp311-linux_x86_64.whl\n",
            "Resolving raw.githubusercontent.com (raw.githubusercontent.com)... 185.199.108.133, 185.199.109.133, 185.199.110.133, ...\n",
            "Connecting to raw.githubusercontent.com (raw.githubusercontent.com)|185.199.108.133|:443... connected.\n",
            "HTTP request sent, awaiting response... 200 OK\n",
            "Length: 127250 (124K) [application/octet-stream]\n",
            "Saving to: ‘simple_bot-0.1-cp311-cp311-linux_x86_64.whl’\n",
            "\n",
            "simple_bot-0.1-cp31 100%[===================>] 124.27K  --.-KB/s    in 0.03s   \n",
            "\n",
            "2025-06-03 17:19:28 (4.46 MB/s) - ‘simple_bot-0.1-cp311-cp311-linux_x86_64.whl’ saved [127250/127250]\n",
            "\n",
            "Processing ./simple_bot-0.1-cp311-cp311-linux_x86_64.whl\n",
            "Requirement already satisfied: requests in /usr/local/lib/python3.11/dist-packages (from simple-bot==0.1) (2.32.3)\n",
            "Requirement already satisfied: charset-normalizer<4,>=2 in /usr/local/lib/python3.11/dist-packages (from requests->simple-bot==0.1) (3.4.2)\n",
            "Requirement already satisfied: idna<4,>=2.5 in /usr/local/lib/python3.11/dist-packages (from requests->simple-bot==0.1) (3.10)\n",
            "Requirement already satisfied: urllib3<3,>=1.21.1 in /usr/local/lib/python3.11/dist-packages (from requests->simple-bot==0.1) (2.4.0)\n",
            "Requirement already satisfied: certifi>=2017.4.17 in /usr/local/lib/python3.11/dist-packages (from requests->simple-bot==0.1) (2025.4.26)\n",
            "Installing collected packages: simple-bot\n",
            "Successfully installed simple-bot-0.1\n"
          ]
        }
      ]
    },
    {
      "cell_type": "code",
      "source": [
        "# Your enhanced memory bot implementation\n",
        "print(\"\\nYour Advanced MemoryBot! Type 'help' for commands.\")\n",
        "\n",
        "# Import the needed package\n",
        "from simple_bot import get_response\n",
        "\n",
        "# Create your lists and initialize variables here\n",
        "memory = []\n",
        "commands = [\"help\", \"memory\", \"clear\", \"bye\"]\n",
        "\n",
        "# Write your loop here\n",
        "while True:\n",
        "    user_input = input(\"You: \")\n",
        "\n",
        "    # Convert input to lowercase for comparison\n",
        "    lower_input = user_input.lower()\n",
        "\n",
        "    # Handle commands\n",
        "    if lower_input == \"bye\":\n",
        "        print(\"Bot: Goodbye! 👋\")\n",
        "        break\n",
        "    elif lower_input == \"help\":\n",
        "        print(\"Available commands:\", \", \".join(commands))\n",
        "    elif lower_input == \"memory\":\n",
        "        print(\"I remember:\", memory)\n",
        "    elif lower_input == \"clear\":\n",
        "        memory = []\n",
        "        print(\"Memory cleared!\")\n",
        "    else:\n",
        "        # Add to memory and keep only last 3 messages\n",
        "        memory.append(user_input)\n",
        "        if len(memory) > 3:\n",
        "            memory = memory[-3:]  # Keep last 3 items\n",
        "\n",
        "        # Create context from memory\n",
        "        context = \"\\n\".join(memory)\n",
        "\n",
        "        # Get response with context\n",
        "        print(\"Bot:\", get_response(context))\n",
        "        print(\"(Memory size:\", len(memory), \"messages)\")\n"
      ],
      "metadata": {
        "colab": {
          "base_uri": "https://localhost:8080/"
        },
        "id": "W4k8jrUzzmLH",
        "outputId": "2ee1bb00-e712-4470-b3f1-bfaeeddf7954"
      },
      "execution_count": 7,
      "outputs": [
        {
          "output_type": "stream",
          "name": "stdout",
          "text": [
            "\n",
            "Your Advanced MemoryBot! Type 'help' for commands.\n",
            "You: Help\n",
            "Available commands: help, memory, clear, bye\n",
            "You: clear\n",
            "Memory cleared!\n",
            "You: bye\n",
            "Bot: Goodbye! 👋\n"
          ]
        }
      ]
    }
  ]
}