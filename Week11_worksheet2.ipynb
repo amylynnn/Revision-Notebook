{
  "nbformat": 4,
  "nbformat_minor": 0,
  "metadata": {
    "colab": {
      "provenance": [],
      "authorship_tag": "ABX9TyOT+hAnFS4YvqqGooWvW8D0",
      "include_colab_link": true
    },
    "kernelspec": {
      "name": "python3",
      "display_name": "Python 3"
    },
    "language_info": {
      "name": "python"
    }
  },
  "cells": [
    {
      "cell_type": "markdown",
      "metadata": {
        "id": "view-in-github",
        "colab_type": "text"
      },
      "source": [
        "<a href=\"https://colab.research.google.com/github/amylynnn/Revision-Notebook/blob/main/Week11_worksheet2.ipynb\" target=\"_parent\"><img src=\"https://colab.research.google.com/assets/colab-badge.svg\" alt=\"Open In Colab\"/></a>"
      ]
    },
    {
      "cell_type": "code",
      "execution_count": 1,
      "metadata": {
        "colab": {
          "base_uri": "https://localhost:8080/",
          "height": 323
        },
        "id": "OmyTY2HY-O2_",
        "outputId": "03c9d1ad-5ef4-41e5-d2af-bd1a06f9f634"
      },
      "outputs": [
        {
          "output_type": "error",
          "ename": "FileNotFoundError",
          "evalue": "[Errno 2] No such file or directory: 'data.txt'",
          "traceback": [
            "\u001b[0;31m---------------------------------------------------------------------------\u001b[0m",
            "\u001b[0;31mFileNotFoundError\u001b[0m                         Traceback (most recent call last)",
            "\u001b[0;32m<ipython-input-1-3d9a5d02f187>\u001b[0m in \u001b[0;36m<cell line: 0>\u001b[0;34m()\u001b[0m\n\u001b[1;32m     10\u001b[0m \u001b[0;34m\u001b[0m\u001b[0m\n\u001b[1;32m     11\u001b[0m \u001b[0;31m# Test the function\u001b[0m\u001b[0;34m\u001b[0m\u001b[0;34m\u001b[0m\u001b[0m\n\u001b[0;32m---> 12\u001b[0;31m \u001b[0mresult\u001b[0m \u001b[0;34m=\u001b[0m \u001b[0mprocess_data_file\u001b[0m\u001b[0;34m(\u001b[0m\u001b[0;34m'data.txt'\u001b[0m\u001b[0;34m)\u001b[0m\u001b[0;34m\u001b[0m\u001b[0;34m\u001b[0m\u001b[0m\n\u001b[0m\u001b[1;32m     13\u001b[0m \u001b[0mprint\u001b[0m\u001b[0;34m(\u001b[0m\u001b[0;34mf\"Average: {result}\"\u001b[0m\u001b[0;34m)\u001b[0m\u001b[0;34m\u001b[0m\u001b[0;34m\u001b[0m\u001b[0m\n",
            "\u001b[0;32m<ipython-input-1-3d9a5d02f187>\u001b[0m in \u001b[0;36mprocess_data_file\u001b[0;34m(filename)\u001b[0m\n\u001b[1;32m      2\u001b[0m \u001b[0;34m\u001b[0m\u001b[0m\n\u001b[1;32m      3\u001b[0m \u001b[0;32mdef\u001b[0m \u001b[0mprocess_data_file\u001b[0m\u001b[0;34m(\u001b[0m\u001b[0mfilename\u001b[0m\u001b[0;34m)\u001b[0m\u001b[0;34m:\u001b[0m\u001b[0;34m\u001b[0m\u001b[0;34m\u001b[0m\u001b[0m\n\u001b[0;32m----> 4\u001b[0;31m     \u001b[0mfile\u001b[0m \u001b[0;34m=\u001b[0m \u001b[0mopen\u001b[0m\u001b[0;34m(\u001b[0m\u001b[0mfilename\u001b[0m\u001b[0;34m,\u001b[0m \u001b[0;34m'r'\u001b[0m\u001b[0;34m)\u001b[0m\u001b[0;34m\u001b[0m\u001b[0;34m\u001b[0m\u001b[0m\n\u001b[0m\u001b[1;32m      5\u001b[0m     \u001b[0mlines\u001b[0m \u001b[0;34m=\u001b[0m \u001b[0mfile\u001b[0m\u001b[0;34m.\u001b[0m\u001b[0mreadlines\u001b[0m\u001b[0;34m(\u001b[0m\u001b[0;34m)\u001b[0m\u001b[0;34m\u001b[0m\u001b[0;34m\u001b[0m\u001b[0m\n\u001b[1;32m      6\u001b[0m     \u001b[0mnumbers\u001b[0m \u001b[0;34m=\u001b[0m \u001b[0;34m[\u001b[0m\u001b[0mint\u001b[0m\u001b[0;34m(\u001b[0m\u001b[0mline\u001b[0m\u001b[0;34m.\u001b[0m\u001b[0mstrip\u001b[0m\u001b[0;34m(\u001b[0m\u001b[0;34m)\u001b[0m\u001b[0;34m)\u001b[0m \u001b[0;32mfor\u001b[0m \u001b[0mline\u001b[0m \u001b[0;32min\u001b[0m \u001b[0mlines\u001b[0m\u001b[0;34m]\u001b[0m\u001b[0;34m\u001b[0m\u001b[0;34m\u001b[0m\u001b[0m\n",
            "\u001b[0;31mFileNotFoundError\u001b[0m: [Errno 2] No such file or directory: 'data.txt'"
          ]
        }
      ],
      "source": [
        "# Task 1: Identify Potential Errors in the Given Code\n",
        "\n",
        "def process_data_file(filename):\n",
        "    file = open(filename, 'r')\n",
        "    lines = file.readlines()\n",
        "    numbers = [int(line.strip()) for line in lines]\n",
        "    average = sum(numbers) / len(numbers)\n",
        "    file.close()\n",
        "    return average\n",
        "\n",
        "# Test the function\n",
        "result = process_data_file('data.txt')\n",
        "print(f\"Average: {result}\")\n"
      ]
    },
    {
      "cell_type": "code",
      "source": [
        "def improved_process_data_file(filename):\n",
        "    \"\"\"\n",
        "    Processes a file containing numbers and returns their average.\n",
        "    Handles various potential errors gracefully.\n",
        "\n",
        "    Args:\n",
        "        filename (str): Name of the file to process\n",
        "\n",
        "    Returns:\n",
        "        float or None: Average of numbers in the file, or None if processing failed\n",
        "    \"\"\"\n",
        "    try:\n",
        "        with open(filename, 'r') as file:\n",
        "            lines = file.readlines()\n",
        "\n",
        "        if not lines:\n",
        "            print(\"Error: File is empty.\")\n",
        "            return None\n",
        "\n",
        "        numbers = []\n",
        "        for line in lines:\n",
        "            try:\n",
        "                number = int(line.strip())\n",
        "                numbers.append(number)\n",
        "            except ValueError:\n",
        "                print(f\"Warning: Skipping invalid number '{line.strip()}'.\")\n",
        "                # Continue processing other lines\n",
        "\n",
        "        if not numbers:\n",
        "            print(\"Error: No valid numbers found in file.\")\n",
        "            return None\n",
        "\n",
        "        average = sum(numbers) / len(numbers)\n",
        "    except FileNotFoundError:\n",
        "        print(f\"Error: File '{filename}' not found.\")\n",
        "        return None\n",
        "    except IOError as e:\n",
        "        print(f\"IO Error: {e}\")\n",
        "        return None\n",
        "    else:\n",
        "        # Runs only if no exception occurred in try block\n",
        "        print(f\"Successfully processed {len(numbers)} numbers.\")\n",
        "        return average\n",
        "    finally:\n",
        "        print(\"Finished processing the file.\")\n"
      ],
      "metadata": {
        "id": "NBzYuqwT-neO"
      },
      "execution_count": 3,
      "outputs": []
    },
    {
      "cell_type": "code",
      "source": [
        "# Test with a file that doesn't exist\n",
        "print(improved_process_data_file('nonexistent.txt'))  # Should print error and return None\n",
        "\n",
        "# Test with a file containing non-numeric data\n",
        "with open('bad_data.txt', 'w') as f:\n",
        "    f.write(\"1\\n2\\nthree\\n4\\n\")\n",
        "print(improved_process_data_file('bad_data.txt'))  # Should warn about 'three' and return average of 1,2,4\n",
        "\n",
        "# Test with an empty file\n",
        "with open('empty.txt', 'w') as f:\n",
        "    pass\n",
        "print(improved_process_data_file('empty.txt'))  # Should print error about empty file and return None\n",
        "\n",
        "# Test with valid data\n",
        "with open('good_data.txt', 'w') as f:\n",
        "    f.write(\"10\\n20\\n30\\n40\\n\")\n",
        "print(improved_process_data_file('good_data.txt'))  # Should print success and return 25.0\n"
      ],
      "metadata": {
        "colab": {
          "base_uri": "https://localhost:8080/"
        },
        "id": "9xDVX-74-rlw",
        "outputId": "5141575f-fb29-4114-826e-d8316804c8ae"
      },
      "execution_count": 4,
      "outputs": [
        {
          "output_type": "stream",
          "name": "stdout",
          "text": [
            "Error: File 'nonexistent.txt' not found.\n",
            "Finished processing the file.\n",
            "None\n",
            "Warning: Skipping invalid number 'three'.\n",
            "Successfully processed 3 numbers.\n",
            "Finished processing the file.\n",
            "2.3333333333333335\n",
            "Error: File is empty.\n",
            "Finished processing the file.\n",
            "None\n",
            "Successfully processed 4 numbers.\n",
            "Finished processing the file.\n",
            "25.0\n"
          ]
        }
      ]
    },
    {
      "cell_type": "code",
      "source": [
        "# Extension: Advanced Exception Techniques (Timeout Handler)\n",
        "\n",
        "import signal\n",
        "\n",
        "class TimeoutException(Exception):\n",
        "    pass\n",
        "\n",
        "def timeout_handler(signum, frame):\n",
        "    raise TimeoutException(\"Operation timed out!\")\n",
        "\n",
        "def read_file_with_timeout(filename, timeout_seconds=5):\n",
        "    \"\"\"\n",
        "    Attempts to read a file but gives up if it takes longer than timeout_seconds.\n",
        "\n",
        "    Args:\n",
        "        filename (str): The file to read\n",
        "        timeout_seconds (int): Maximum seconds to wait\n",
        "\n",
        "    Returns:\n",
        "        str: File contents or error message\n",
        "    \"\"\"\n",
        "    # Set the signal handler and an alarm\n",
        "    signal.signal(signal.SIGALRM, timeout_handler)\n",
        "    signal.alarm(timeout_seconds)\n",
        "    try:\n",
        "        with open(filename, 'r') as file:\n",
        "            content = file.read()\n",
        "        signal.alarm(0)  # Disable alarm after successful read\n",
        "        return content\n",
        "    except FileNotFoundError:\n",
        "        return f\"Error: File '{filename}' not found.\"\n",
        "    except TimeoutException as e:\n",
        "        return f\"Error: {str(e)}\"\n",
        "    except Exception as e:\n",
        "        return f\"Unexpected error: {str(e)}\"\n",
        "    finally:\n",
        "        signal.alarm(0)  # Ensure alarm is disabled\n"
      ],
      "metadata": {
        "id": "nbiY6WM0-uSq"
      },
      "execution_count": 5,
      "outputs": []
    }
  ]
}