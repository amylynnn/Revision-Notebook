{
  "nbformat": 4,
  "nbformat_minor": 0,
  "metadata": {
    "colab": {
      "provenance": [],
      "authorship_tag": "ABX9TyPrgTi9AdipQCQpOed+yCCI",
      "include_colab_link": true
    },
    "kernelspec": {
      "name": "python3",
      "display_name": "Python 3"
    },
    "language_info": {
      "name": "python"
    }
  },
  "cells": [
    {
      "cell_type": "markdown",
      "metadata": {
        "id": "view-in-github",
        "colab_type": "text"
      },
      "source": [
        "<a href=\"https://colab.research.google.com/github/amylynnn/Revision-Notebook/blob/main/Week3_Project_3_Simple_Weather_Forecaster.ipynb\" target=\"_parent\"><img src=\"https://colab.research.google.com/assets/colab-badge.svg\" alt=\"Open In Colab\"/></a>"
      ]
    },
    {
      "cell_type": "code",
      "execution_count": 1,
      "metadata": {
        "colab": {
          "base_uri": "https://localhost:8080/"
        },
        "id": "xv2iolUQuNcW",
        "outputId": "2e1e4949-ad87-4037-cc41-a9c797cb39c6"
      },
      "outputs": [
        {
          "output_type": "stream",
          "name": "stdout",
          "text": [
            "Weather Menu:\n",
            "1. Check Temperature\n",
            "2. Check Humidity\n",
            "3. Check Wind Speed\n",
            "4. Exit\n",
            "Enter your choice (1-4): 3\n",
            "Enter the current wind speed (in km/h): 2\n",
            "Light breeze – pleasant wind.\n"
          ]
        }
      ],
      "source": [
        "# Simple Weather Forecaster\n",
        "\n",
        "# Display the Weather Menu\n",
        "print(\"Weather Menu:\")\n",
        "print(\"1. Check Temperature\")\n",
        "print(\"2. Check Humidity\")\n",
        "print(\"3. Check Wind Speed\")\n",
        "print(\"4. Exit\")\n",
        "\n",
        "# Capture the user's menu selection\n",
        "choice = input(\"Enter your choice (1-4): \")\n",
        "\n",
        "# Process the user's selection\n",
        "if choice == \"1\":\n",
        "    # Check Temperature\n",
        "    temp_input = input(\"Enter the current temperature (in °C): \")\n",
        "    # Check if input is a number, including negative numbers\n",
        "    if temp_input.isdigit() or (temp_input.startswith('-') and temp_input[1:].isdigit()):\n",
        "        temperature = int(temp_input)\n",
        "        if temperature < 15:\n",
        "            print(\"It’s cold – expect a chilly day.\")\n",
        "        elif temperature < 25:\n",
        "            print(\"It’s a pleasant day.\")\n",
        "        else:\n",
        "            print(\"It’s hot – stay cool!\")\n",
        "    else:\n",
        "        print(\"Invalid input. Please enter a numeric temperature.\")\n",
        "\n",
        "elif choice == \"2\":\n",
        "    # Check Humidity\n",
        "    humidity_input = input(\"Enter the current humidity (in %): \")\n",
        "    # Validate numeric input (humidity should be 0 to 100)\n",
        "    if humidity_input.isdigit():\n",
        "        humidity = int(humidity_input)\n",
        "        if 0 <= humidity <= 100:\n",
        "            if humidity < 30:\n",
        "                print(\"Humidity is low – it might feel dry.\")\n",
        "            elif humidity <= 60:\n",
        "                print(\"Humidity is moderate – comfortable conditions.\")\n",
        "            else:\n",
        "                print(\"Humidity is high – it might feel sticky.\")\n",
        "        else:\n",
        "            print(\"Invalid humidity value. Please enter a percentage between 0 and 100.\")\n",
        "    else:\n",
        "        print(\"Invalid input. Please enter a numeric humidity value.\")\n",
        "\n",
        "elif choice == \"3\":\n",
        "    # Check Wind Speed\n",
        "    wind_input = input(\"Enter the current wind speed (in km/h): \")\n",
        "    # Validate numeric input (wind speed should be positive)\n",
        "    if wind_input.isdigit():\n",
        "        wind_speed = int(wind_input)\n",
        "        if wind_speed == 0:\n",
        "            print(\"No wind – calm conditions.\")\n",
        "        elif wind_speed <= 20:\n",
        "            print(\"Light breeze – pleasant wind.\")\n",
        "        elif wind_speed <= 50:\n",
        "            print(\"Moderate wind – hold on to your hat!\")\n",
        "        else:\n",
        "            print(\"Strong wind – stay indoors if possible.\")\n",
        "    else:\n",
        "        print(\"Invalid input. Please enter a numeric wind speed.\")\n",
        "\n",
        "elif choice == \"4\":\n",
        "    print(\"Exiting the program. Have a great day!\")\n",
        "\n",
        "else:\n",
        "    print(\"Invalid choice. Please select a valid option (1-4).\")\n"
      ]
    }
  ]
}