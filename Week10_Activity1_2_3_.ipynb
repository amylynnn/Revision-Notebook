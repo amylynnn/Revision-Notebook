{
  "nbformat": 4,
  "nbformat_minor": 0,
  "metadata": {
    "colab": {
      "provenance": [],
      "authorship_tag": "ABX9TyMv6l+ziXI2kG5xoxMXJWuS",
      "include_colab_link": true
    },
    "kernelspec": {
      "name": "python3",
      "display_name": "Python 3"
    },
    "language_info": {
      "name": "python"
    }
  },
  "cells": [
    {
      "cell_type": "markdown",
      "metadata": {
        "id": "view-in-github",
        "colab_type": "text"
      },
      "source": [
        "<a href=\"https://colab.research.google.com/github/amylynnn/Revision-Notebook/blob/main/Week10_Activity1_2_3_.ipynb\" target=\"_parent\"><img src=\"https://colab.research.google.com/assets/colab-badge.svg\" alt=\"Open In Colab\"/></a>"
      ]
    },
    {
      "cell_type": "code",
      "execution_count": 1,
      "metadata": {
        "id": "9RP7Rdlb713F"
      },
      "outputs": [],
      "source": [
        "# Activity 1\n",
        "\n",
        "# Activity 1.1: Design a Simple Class\n",
        "\n",
        "# Define the Book class here\n",
        "\n",
        "class Book:\n",
        "    def __init__(self, title, author):\n",
        "        self.title = title\n",
        "        self.author = author\n",
        "\n",
        "    def display_info(self):\n",
        "        print(f\"Title: {self.title}, Author: {self.author}\")\n"
      ]
    },
    {
      "cell_type": "code",
      "source": [
        "# Activity 1.2: Implement and Test Your Class\n",
        "\n",
        "# Implement the Book class and create instances here\n",
        "\n",
        "# Using the Book class from above:\n",
        "\n",
        "book1 = Book(\"To Kill a Mockingbird\", \"Harper Lee\")\n",
        "book2 = Book(\"1984\", \"George Orwell\")\n",
        "\n",
        "# Display book information\n",
        "book1.display_info()\n",
        "book2.display_info()\n"
      ],
      "metadata": {
        "colab": {
          "base_uri": "https://localhost:8080/"
        },
        "id": "K54CppWC8B7r",
        "outputId": "87f13a4e-7b12-4500-8486-13f5f260144f"
      },
      "execution_count": 2,
      "outputs": [
        {
          "output_type": "stream",
          "name": "stdout",
          "text": [
            "Title: To Kill a Mockingbird, Author: Harper Lee\n",
            "Title: 1984, Author: George Orwell\n"
          ]
        }
      ]
    },
    {
      "cell_type": "code",
      "source": [
        "# 1.3: Extension Challenge: Enhance Your Class\n",
        "\n",
        "# Enhance and test the Book class here\n",
        "\n",
        "class Book:\n",
        "    def __init__(self, title, author, year_published):\n",
        "        self.title = title\n",
        "        self.author = author\n",
        "        self.year_published = year_published\n",
        "\n",
        "    def display_info(self):\n",
        "        print(f\"Title: {self.title}, Author: {self.author}, Year Published: {self.year_published}\")\n",
        "\n",
        "    def update_author(self, new_author):\n",
        "        self.author = new_author\n",
        "\n",
        "# Create instances\n",
        "book1 = Book(\"To Kill a Mockingbird\", \"Harper Lee\", 1960)\n",
        "book2 = Book(\"1984\", \"George Orwell\", 1949)\n",
        "\n",
        "# Display original info\n",
        "book1.display_info()\n",
        "book2.display_info()\n",
        "\n",
        "# Update author of book2 and display info again\n",
        "book2.update_author(\"Eric Arthur Blair\")\n",
        "book2.display_info()\n"
      ],
      "metadata": {
        "colab": {
          "base_uri": "https://localhost:8080/"
        },
        "id": "_u0eGDRi8Hil",
        "outputId": "3c4f733c-c88f-4420-a924-6ea779572bc6"
      },
      "execution_count": 3,
      "outputs": [
        {
          "output_type": "stream",
          "name": "stdout",
          "text": [
            "Title: To Kill a Mockingbird, Author: Harper Lee, Year Published: 1960\n",
            "Title: 1984, Author: George Orwell, Year Published: 1949\n",
            "Title: 1984, Author: Eric Arthur Blair, Year Published: 1949\n"
          ]
        }
      ]
    },
    {
      "cell_type": "code",
      "source": [
        "# Activity 2\n",
        "\n",
        "# Activity 2.1: Refactoring to OOP\n",
        "\n",
        "class Triangle:\n",
        "    def __init__(self, base, height):\n",
        "        self.base = base\n",
        "        self.height = height\n",
        "\n",
        "    def calculate_area(self):\n",
        "        return 0.5 * self.base * self.height\n",
        "\n",
        "# Create an instance of Triangle\n",
        "triangle = Triangle(5, 10)\n",
        "\n",
        "# Calculate and print area\n",
        "area = triangle.calculate_area()\n",
        "print(\"Area:\", area)\n"
      ],
      "metadata": {
        "colab": {
          "base_uri": "https://localhost:8080/"
        },
        "id": "zCpzFDyl8aEi",
        "outputId": "b28b0e4a-6f6e-45bc-8d1a-0a89721a5967"
      },
      "execution_count": 4,
      "outputs": [
        {
          "output_type": "stream",
          "name": "stdout",
          "text": [
            "Area: 25.0\n"
          ]
        }
      ]
    },
    {
      "cell_type": "code",
      "source": [
        "# Activity 2.2: Extension Task: Enhance the Triangle Class\n",
        "\n",
        "class Triangle:\n",
        "    def __init__(self, base, height):\n",
        "        if base <= 0 or height <= 0:\n",
        "            raise ValueError(\"Base and height must be positive numbers.\")\n",
        "        self.base = base\n",
        "        self.height = height\n",
        "\n",
        "    def calculate_area(self):\n",
        "        return 0.5 * self.base * self.height\n",
        "\n",
        "    def calculate_perimeter(self):\n",
        "        # Assuming equilateral triangle for perimeter calculation\n",
        "        return 3 * self.base\n",
        "\n",
        "# Example usage\n",
        "try:\n",
        "    triangle = Triangle(5, 10)\n",
        "    print(\"Area:\", triangle.calculate_area())\n",
        "    print(\"Perimeter:\", triangle.calculate_perimeter())\n",
        "except ValueError as e:\n",
        "    print(\"Error:\", e)\n"
      ],
      "metadata": {
        "colab": {
          "base_uri": "https://localhost:8080/"
        },
        "id": "LsKxRtVF8iP_",
        "outputId": "cf45a364-1cc6-4f26-f535-9db1e8c6530e"
      },
      "execution_count": 5,
      "outputs": [
        {
          "output_type": "stream",
          "name": "stdout",
          "text": [
            "Area: 25.0\n",
            "Perimeter: 15\n"
          ]
        }
      ]
    },
    {
      "cell_type": "code",
      "source": [
        "# Activity 3\n",
        "\n",
        "# Activity 3.1: Designing a Simple Class\n",
        "\n",
        "class Book:\n",
        "    def __init__(self, title, author, year_published):\n",
        "        self.title = title\n",
        "        self.author = author\n",
        "        self.year_published = year_published\n",
        "        self.checked_out = False  # Track if the book is currently checked out\n",
        "\n",
        "    def check_out(self):\n",
        "        if not self.checked_out:\n",
        "            self.checked_out = True\n",
        "            print(f\"'{self.title}' has been checked out.\")\n",
        "        else:\n",
        "            print(f\"'{self.title}' is already checked out.\")\n",
        "\n",
        "    def check_in(self):\n",
        "        if self.checked_out:\n",
        "            self.checked_out = False\n",
        "            print(f\"'{self.title}' has been checked in.\")\n",
        "        else:\n",
        "            print(f\"'{self.title}' was not checked out.\")"
      ],
      "metadata": {
        "id": "1KHEda9Y9Gc2"
      },
      "execution_count": null,
      "outputs": []
    },
    {
      "cell_type": "code",
      "source": [
        "# Activity 3.2: Extension Challenge: Design a Patron Class\n",
        "\n",
        "class Patron:\n",
        "    def __init__(self, name):\n",
        "        self.name = name\n",
        "        self.borrowed_books = []\n",
        "\n",
        "    def borrow_book(self, book):\n",
        "        if not book.checked_out:\n",
        "            book.check_out()\n",
        "            self.borrowed_books.append(book)\n",
        "            print(f\"{self.name} borrowed '{book.title}'.\")\n",
        "        else:\n",
        "            print(f\"Sorry, '{book.title}' is not available.\")\n",
        "\n",
        "    def return_book(self, book):\n",
        "        if book in self.borrowed_books:\n",
        "            book.check_in()\n",
        "            self.borrowed_books.remove(book)\n",
        "            print(f\"{self.name} returned '{book.title}'.\")\n",
        "        else:\n",
        "            print(f\"{self.name} does not have '{book.title}' to return.\")\n"
      ],
      "metadata": {
        "id": "B70wf9we9HU3"
      },
      "execution_count": 8,
      "outputs": []
    }
  ]
}