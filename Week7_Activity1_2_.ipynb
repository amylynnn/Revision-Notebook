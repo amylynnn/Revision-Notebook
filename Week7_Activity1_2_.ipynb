{
  "nbformat": 4,
  "nbformat_minor": 0,
  "metadata": {
    "colab": {
      "provenance": [],
      "authorship_tag": "ABX9TyPClJ4/Cm/K3isN2DJn+p+u",
      "include_colab_link": true
    },
    "kernelspec": {
      "name": "python3",
      "display_name": "Python 3"
    },
    "language_info": {
      "name": "python"
    }
  },
  "cells": [
    {
      "cell_type": "markdown",
      "metadata": {
        "id": "view-in-github",
        "colab_type": "text"
      },
      "source": [
        "<a href=\"https://colab.research.google.com/github/amylynnn/Revision-Notebook/blob/main/Week7_Activity1_2_.ipynb\" target=\"_parent\"><img src=\"https://colab.research.google.com/assets/colab-badge.svg\" alt=\"Open In Colab\"/></a>"
      ]
    },
    {
      "cell_type": "code",
      "execution_count": 1,
      "metadata": {
        "colab": {
          "base_uri": "https://localhost:8080/"
        },
        "id": "qn8fTWgv2PzS",
        "outputId": "d77d6241-12d7-413c-ad24-30a6f553d051"
      },
      "outputs": [
        {
          "output_type": "stream",
          "name": "stdout",
          "text": [
            "      Month  Product A  Product B  Product C\n",
            "0   January        120         90        140\n",
            "1  February        134        100        150\n",
            "2     March        145        110        160\n"
          ]
        }
      ],
      "source": [
        "# Activity 1\n",
        "# 1.1 Creating a Simple DataFrame\n",
        "\n",
        "import pandas as pd\n",
        "\n",
        "# Data dictionary\n",
        "data = {\n",
        "    'Month': ['January', 'February', 'March'],\n",
        "    'Product A': [120, 134, 145],\n",
        "    'Product B': [90, 100, 110],\n",
        "    'Product C': [140, 150, 160]\n",
        "}\n",
        "\n",
        "# Convert to DataFrame\n",
        "df = pd.DataFrame(data)\n",
        "\n",
        "# Show the table\n",
        "print(df)\n"
      ]
    },
    {
      "cell_type": "code",
      "source": [
        "# 2.1 Exploring the DataFrame\n",
        "\n",
        "print(df.head())       # First few rows\n",
        "print(df.info())       # Info about columns and data types\n",
        "print(df.describe())   # Summary statistics for numeric columns\n"
      ],
      "metadata": {
        "colab": {
          "base_uri": "https://localhost:8080/"
        },
        "id": "Kgsyu08G2bV5",
        "outputId": "d4ba0090-4df3-4df8-82ea-cf21ed9a0e15"
      },
      "execution_count": 2,
      "outputs": [
        {
          "output_type": "stream",
          "name": "stdout",
          "text": [
            "      Month  Product A  Product B  Product C\n",
            "0   January        120         90        140\n",
            "1  February        134        100        150\n",
            "2     March        145        110        160\n",
            "<class 'pandas.core.frame.DataFrame'>\n",
            "RangeIndex: 3 entries, 0 to 2\n",
            "Data columns (total 4 columns):\n",
            " #   Column     Non-Null Count  Dtype \n",
            "---  ------     --------------  ----- \n",
            " 0   Month      3 non-null      object\n",
            " 1   Product A  3 non-null      int64 \n",
            " 2   Product B  3 non-null      int64 \n",
            " 3   Product C  3 non-null      int64 \n",
            "dtypes: int64(3), object(1)\n",
            "memory usage: 228.0+ bytes\n",
            "None\n",
            "        Product A  Product B  Product C\n",
            "count    3.000000        3.0        3.0\n",
            "mean   133.000000      100.0      150.0\n",
            "std     12.529964       10.0       10.0\n",
            "min    120.000000       90.0      140.0\n",
            "25%    127.000000       95.0      145.0\n",
            "50%    134.000000      100.0      150.0\n",
            "75%    139.500000      105.0      155.0\n",
            "max    145.000000      110.0      160.0\n"
          ]
        }
      ]
    },
    {
      "cell_type": "code",
      "source": [
        "# 1.3 Accessing Columns and Rows\n",
        "# Access the Product B column:\n",
        "\n",
        "print(df['Product B'])\n",
        "\n",
        "#Access the second row (index 1) with .iloc:\n",
        "\n",
        "print(df.iloc[1])"
      ],
      "metadata": {
        "colab": {
          "base_uri": "https://localhost:8080/"
        },
        "id": "75WgDQan2hmG",
        "outputId": "f86855f2-474d-47d7-bddc-575b710b7211"
      },
      "execution_count": 3,
      "outputs": [
        {
          "output_type": "stream",
          "name": "stdout",
          "text": [
            "0     90\n",
            "1    100\n",
            "2    110\n",
            "Name: Product B, dtype: int64\n",
            "Month        February\n",
            "Product A         134\n",
            "Product B         100\n",
            "Product C         150\n",
            "Name: 1, dtype: object\n"
          ]
        }
      ]
    },
    {
      "cell_type": "code",
      "source": [
        "# 1.4. Adding New Columns\n",
        "\n",
        "df['Total Sales'] = df['Product A'] + df['Product B'] + df['Product C']\n",
        "df['Average Sales'] = df['Total Sales'] / 3\n",
        "\n",
        "print(df)\n"
      ],
      "metadata": {
        "colab": {
          "base_uri": "https://localhost:8080/"
        },
        "id": "o0rlkgIq2u6c",
        "outputId": "84a2871e-11fb-4471-aa4b-c4cdd7218abf"
      },
      "execution_count": 4,
      "outputs": [
        {
          "output_type": "stream",
          "name": "stdout",
          "text": [
            "      Month  Product A  Product B  Product C  Total Sales  Average Sales\n",
            "0   January        120         90        140          350     116.666667\n",
            "1  February        134        100        150          384     128.000000\n",
            "2     March        145        110        160          415     138.333333\n"
          ]
        }
      ]
    },
    {
      "cell_type": "code",
      "source": [
        "# 1.5.  Challenge: Find the Top Month and Product\n",
        "\n",
        "top_month = df.loc[df['Total Sales'].idxmax(), 'Month']\n",
        "print(f\"Top month: {top_month}\")\n",
        "\n",
        "# Which product sold the most overall?\n",
        "\n",
        "total_product_sales = {\n",
        "    'Product A': df['Product A'].sum(),\n",
        "    'Product B': df['Product B'].sum(),\n",
        "    'Product C': df['Product C'].sum()\n",
        "}\n",
        "\n",
        "top_product = max(total_product_sales, key=total_product_sales.get)\n",
        "print(f\"Top product: {top_product}\")\n"
      ],
      "metadata": {
        "colab": {
          "base_uri": "https://localhost:8080/"
        },
        "id": "iMI4RJ4Z214B",
        "outputId": "88601feb-d5f1-4c04-8c64-14582b6a8a6c"
      },
      "execution_count": 5,
      "outputs": [
        {
          "output_type": "stream",
          "name": "stdout",
          "text": [
            "Top month: March\n",
            "Top product: Product C\n"
          ]
        }
      ]
    },
    {
      "cell_type": "code",
      "source": [
        "# Activity 2\n",
        "# Step 1: Load the Data\n",
        "from google.colab import files\n",
        "uploaded = files.upload()\n",
        "\n",
        "import io\n",
        "df = pd.read_csv(io.BytesIO(uploaded['sales_data.csv']))\n",
        "\n"
      ],
      "metadata": {
        "colab": {
          "base_uri": "https://localhost:8080/",
          "height": 39
        },
        "id": "QO6AfxmO3BA0",
        "outputId": "11c3eb67-bac3-4430-9eee-199991763208"
      },
      "execution_count": null,
      "outputs": [
        {
          "output_type": "display_data",
          "data": {
            "text/plain": [
              "<IPython.core.display.HTML object>"
            ],
            "text/html": [
              "\n",
              "     <input type=\"file\" id=\"files-c2e8599c-627d-4853-bf07-489e022bf219\" name=\"files[]\" multiple disabled\n",
              "        style=\"border:none\" />\n",
              "     <output id=\"result-c2e8599c-627d-4853-bf07-489e022bf219\">\n",
              "      Upload widget is only available when the cell has been executed in the\n",
              "      current browser session. Please rerun this cell to enable.\n",
              "      </output>\n",
              "      <script>// Copyright 2017 Google LLC\n",
              "//\n",
              "// Licensed under the Apache License, Version 2.0 (the \"License\");\n",
              "// you may not use this file except in compliance with the License.\n",
              "// You may obtain a copy of the License at\n",
              "//\n",
              "//      http://www.apache.org/licenses/LICENSE-2.0\n",
              "//\n",
              "// Unless required by applicable law or agreed to in writing, software\n",
              "// distributed under the License is distributed on an \"AS IS\" BASIS,\n",
              "// WITHOUT WARRANTIES OR CONDITIONS OF ANY KIND, either express or implied.\n",
              "// See the License for the specific language governing permissions and\n",
              "// limitations under the License.\n",
              "\n",
              "/**\n",
              " * @fileoverview Helpers for google.colab Python module.\n",
              " */\n",
              "(function(scope) {\n",
              "function span(text, styleAttributes = {}) {\n",
              "  const element = document.createElement('span');\n",
              "  element.textContent = text;\n",
              "  for (const key of Object.keys(styleAttributes)) {\n",
              "    element.style[key] = styleAttributes[key];\n",
              "  }\n",
              "  return element;\n",
              "}\n",
              "\n",
              "// Max number of bytes which will be uploaded at a time.\n",
              "const MAX_PAYLOAD_SIZE = 100 * 1024;\n",
              "\n",
              "function _uploadFiles(inputId, outputId) {\n",
              "  const steps = uploadFilesStep(inputId, outputId);\n",
              "  const outputElement = document.getElementById(outputId);\n",
              "  // Cache steps on the outputElement to make it available for the next call\n",
              "  // to uploadFilesContinue from Python.\n",
              "  outputElement.steps = steps;\n",
              "\n",
              "  return _uploadFilesContinue(outputId);\n",
              "}\n",
              "\n",
              "// This is roughly an async generator (not supported in the browser yet),\n",
              "// where there are multiple asynchronous steps and the Python side is going\n",
              "// to poll for completion of each step.\n",
              "// This uses a Promise to block the python side on completion of each step,\n",
              "// then passes the result of the previous step as the input to the next step.\n",
              "function _uploadFilesContinue(outputId) {\n",
              "  const outputElement = document.getElementById(outputId);\n",
              "  const steps = outputElement.steps;\n",
              "\n",
              "  const next = steps.next(outputElement.lastPromiseValue);\n",
              "  return Promise.resolve(next.value.promise).then((value) => {\n",
              "    // Cache the last promise value to make it available to the next\n",
              "    // step of the generator.\n",
              "    outputElement.lastPromiseValue = value;\n",
              "    return next.value.response;\n",
              "  });\n",
              "}\n",
              "\n",
              "/**\n",
              " * Generator function which is called between each async step of the upload\n",
              " * process.\n",
              " * @param {string} inputId Element ID of the input file picker element.\n",
              " * @param {string} outputId Element ID of the output display.\n",
              " * @return {!Iterable<!Object>} Iterable of next steps.\n",
              " */\n",
              "function* uploadFilesStep(inputId, outputId) {\n",
              "  const inputElement = document.getElementById(inputId);\n",
              "  inputElement.disabled = false;\n",
              "\n",
              "  const outputElement = document.getElementById(outputId);\n",
              "  outputElement.innerHTML = '';\n",
              "\n",
              "  const pickedPromise = new Promise((resolve) => {\n",
              "    inputElement.addEventListener('change', (e) => {\n",
              "      resolve(e.target.files);\n",
              "    });\n",
              "  });\n",
              "\n",
              "  const cancel = document.createElement('button');\n",
              "  inputElement.parentElement.appendChild(cancel);\n",
              "  cancel.textContent = 'Cancel upload';\n",
              "  const cancelPromise = new Promise((resolve) => {\n",
              "    cancel.onclick = () => {\n",
              "      resolve(null);\n",
              "    };\n",
              "  });\n",
              "\n",
              "  // Wait for the user to pick the files.\n",
              "  const files = yield {\n",
              "    promise: Promise.race([pickedPromise, cancelPromise]),\n",
              "    response: {\n",
              "      action: 'starting',\n",
              "    }\n",
              "  };\n",
              "\n",
              "  cancel.remove();\n",
              "\n",
              "  // Disable the input element since further picks are not allowed.\n",
              "  inputElement.disabled = true;\n",
              "\n",
              "  if (!files) {\n",
              "    return {\n",
              "      response: {\n",
              "        action: 'complete',\n",
              "      }\n",
              "    };\n",
              "  }\n",
              "\n",
              "  for (const file of files) {\n",
              "    const li = document.createElement('li');\n",
              "    li.append(span(file.name, {fontWeight: 'bold'}));\n",
              "    li.append(span(\n",
              "        `(${file.type || 'n/a'}) - ${file.size} bytes, ` +\n",
              "        `last modified: ${\n",
              "            file.lastModifiedDate ? file.lastModifiedDate.toLocaleDateString() :\n",
              "                                    'n/a'} - `));\n",
              "    const percent = span('0% done');\n",
              "    li.appendChild(percent);\n",
              "\n",
              "    outputElement.appendChild(li);\n",
              "\n",
              "    const fileDataPromise = new Promise((resolve) => {\n",
              "      const reader = new FileReader();\n",
              "      reader.onload = (e) => {\n",
              "        resolve(e.target.result);\n",
              "      };\n",
              "      reader.readAsArrayBuffer(file);\n",
              "    });\n",
              "    // Wait for the data to be ready.\n",
              "    let fileData = yield {\n",
              "      promise: fileDataPromise,\n",
              "      response: {\n",
              "        action: 'continue',\n",
              "      }\n",
              "    };\n",
              "\n",
              "    // Use a chunked sending to avoid message size limits. See b/62115660.\n",
              "    let position = 0;\n",
              "    do {\n",
              "      const length = Math.min(fileData.byteLength - position, MAX_PAYLOAD_SIZE);\n",
              "      const chunk = new Uint8Array(fileData, position, length);\n",
              "      position += length;\n",
              "\n",
              "      const base64 = btoa(String.fromCharCode.apply(null, chunk));\n",
              "      yield {\n",
              "        response: {\n",
              "          action: 'append',\n",
              "          file: file.name,\n",
              "          data: base64,\n",
              "        },\n",
              "      };\n",
              "\n",
              "      let percentDone = fileData.byteLength === 0 ?\n",
              "          100 :\n",
              "          Math.round((position / fileData.byteLength) * 100);\n",
              "      percent.textContent = `${percentDone}% done`;\n",
              "\n",
              "    } while (position < fileData.byteLength);\n",
              "  }\n",
              "\n",
              "  // All done.\n",
              "  yield {\n",
              "    response: {\n",
              "      action: 'complete',\n",
              "    }\n",
              "  };\n",
              "}\n",
              "\n",
              "scope.google = scope.google || {};\n",
              "scope.google.colab = scope.google.colab || {};\n",
              "scope.google.colab._files = {\n",
              "  _uploadFiles,\n",
              "  _uploadFilesContinue,\n",
              "};\n",
              "})(self);\n",
              "</script> "
            ]
          },
          "metadata": {}
        }
      ]
    },
    {
      "cell_type": "code",
      "source": [
        "# Step 2: Inspect the DataFrame\n",
        "print(df.info())      # Check for missing values & data types\n",
        "print(df.describe())  # Summary stats for numerical columns\n"
      ],
      "metadata": {
        "id": "wnfO9WmP3Yas"
      },
      "execution_count": null,
      "outputs": []
    },
    {
      "cell_type": "code",
      "source": [
        "# Step 3: Remove Missing Values\n",
        "df_clean = df.dropna()\n",
        "\n",
        "print(\"Original rows:\", len(df))\n",
        "print(\"Rows after dropping missing:\", len(df_clean))\n",
        "\n",
        "print(df_clean.head())\n"
      ],
      "metadata": {
        "id": "-Ubxb1od3oWw"
      },
      "execution_count": null,
      "outputs": []
    },
    {
      "cell_type": "code",
      "source": [
        "# Step 4: Remove Outliers Using IQR Method\n",
        "\n",
        "Q1 = df_clean['sales'].quantile(0.25)\n",
        "Q3 = df_clean['sales'].quantile(0.75)\n",
        "IQR = Q3 - Q1\n",
        "\n",
        "lower_bound = Q1 - 1.5 * IQR\n",
        "upper_bound = Q3 + 1.5 * IQR\n",
        "\n",
        "print(\"Lower bound:\", lower_bound)\n",
        "print(\"Upper bound:\", upper_bound)\n",
        "\n",
        "df_filtered = df_clean[(df_clean['sales'] >= lower_bound) & (df_clean['sales'] <= upper_bound)]\n",
        "\n",
        "print(\"Rows before filtering:\", len(df_clean))\n",
        "print(\"Rows after filtering:\", len(df_filtered))\n",
        "\n",
        "print(df_filtered.head())\n"
      ],
      "metadata": {
        "id": "NvvaLHrz3so_"
      },
      "execution_count": null,
      "outputs": []
    },
    {
      "cell_type": "code",
      "source": [
        "# Step 5 (Optional): Group Sales by Month\n",
        "\n",
        "# Convert 'date' to datetime if not already\n",
        "df_filtered['date'] = pd.to_datetime(df_filtered['date'])\n",
        "\n",
        "# Extract month number\n",
        "df_filtered['Month'] = df_filtered['date'].dt.month\n",
        "\n",
        "# Group by Month and sum sales\n",
        "monthly_sales = df_filtered.groupby('Month')['sales'].sum()\n",
        "\n",
        "print(monthly_sales)\n"
      ],
      "metadata": {
        "id": "uQLkKu_B3xUs"
      },
      "execution_count": null,
      "outputs": []
    }
  ]
}